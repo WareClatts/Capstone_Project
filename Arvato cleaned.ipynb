{
 "cells": [
  {
   "cell_type": "markdown",
   "id": "f994bfc2-6562-412a-afec-eee058aae08a",
   "metadata": {},
   "source": [
    "# Capstone Project: Create a Customer Segmentation Report for Arvato Financial Services\n",
    "\n",
    "In this project, you will analyze demographics data for customers of a mail-order sales company in Germany, comparing it against demographics information for the general population. You'll use unsupervised learning techniques to perform customer segmentation, identifying the parts of the population that best describe the core customer base of the company. Then, you'll apply what you've learned on a third dataset with demographics information for targets of a marketing campaign for the company, and use a model to predict which individuals are most likely to convert into becoming customers for the company. The data that you will use has been provided by our partners at Bertelsmann Arvato Analytics, and represents a real-life data science task.\n",
    "\n",
    "If you completed the first term of this program, you will be familiar with the first part of this project, from the unsupervised learning project. The versions of those two datasets used in this project will include many more features and has not been pre-cleaned. You are also free to choose whatever approach you'd like to analyzing the data rather than follow pre-determined steps. In your work on this project, make sure that you carefully document your steps and decisions, since your main deliverable for this project will be a blog post reporting your findings."
   ]
  },
  {
   "cell_type": "code",
   "execution_count": 236,
   "id": "b43b3e94-4ea5-407b-9d34-7a599ef34a4c",
   "metadata": {},
   "outputs": [],
   "source": [
    "# import libraries here; add more as necessary\n",
    "import numpy as np\n",
    "import pandas as pd\n",
    "import matplotlib.pyplot as plt\n",
    "\n",
    "# magic word for producing visualizations in notebook\n",
    "%matplotlib inline\n",
    "\n",
    "from arvato_functions import *"
   ]
  },
  {
   "cell_type": "code",
   "execution_count": 366,
   "id": "fc1832c1-d26f-4adb-a456-f2ff5ed0aa42",
   "metadata": {},
   "outputs": [
    {
     "name": "stdout",
     "output_type": "stream",
     "text": [
      "The autoreload extension is already loaded. To reload it, use:\n",
      "  %reload_ext autoreload\n"
     ]
    }
   ],
   "source": [
    "%load_ext autoreload\n",
    "%autoreload 2\n",
    "from arvato_functions import *"
   ]
  },
  {
   "cell_type": "markdown",
   "id": "a32803cf-08c3-43dc-93d5-80d2283ec780",
   "metadata": {},
   "source": [
    "## Part 0: Get to Know the Data\n",
    "\n",
    "There are four data files associated with this project:\n",
    "\n",
    "- `Udacity_AZDIAS_052018.csv`: Demographics data for the general population of Germany; 891 211 persons (rows) x 366 features (columns).\n",
    "- `Udacity_CUSTOMERS_052018.csv`: Demographics data for customers of a mail-order company; 191 652 persons (rows) x 369 features (columns).\n",
    "- `Udacity_MAILOUT_052018_TRAIN.csv`: Demographics data for individuals who were targets of a marketing campaign; 42 982 persons (rows) x 367 (columns).\n",
    "- `Udacity_MAILOUT_052018_TEST.csv`: Demographics data for individuals who were targets of a marketing campaign; 42 833 persons (rows) x 366 (columns).\n",
    "\n",
    "Each row of the demographics files represents a single person, but also includes information outside of individuals, including information about their household, building, and neighborhood. Use the information from the first two files to figure out how customers (\"CUSTOMERS\") are similar to or differ from the general population at large (\"AZDIAS\"), then use your analysis to make predictions on the other two files (\"MAILOUT\"), predicting which recipients are most likely to become a customer for the mail-order company.\n",
    "\n",
    "The \"CUSTOMERS\" file contains three extra columns ('CUSTOMER_GROUP', 'ONLINE_PURCHASE', and 'PRODUCT_GROUP'), which provide broad information about the customers depicted in the file. The original \"MAILOUT\" file included one additional column, \"RESPONSE\", which indicated whether or not each recipient became a customer of the company. For the \"TRAIN\" subset, this column has been retained, but in the \"TEST\" subset it has been removed; it is against that withheld column that your final predictions will be assessed in the Kaggle competition.\n",
    "\n",
    "Otherwise, all of the remaining columns are the same between the three data files. For more information about the columns depicted in the files, you can refer to two Excel spreadsheets provided in the workspace. [One of them](./DIAS Information Levels - Attributes 2017.xlsx) is a top-level list of attributes and descriptions, organized by informational category. [The other](./DIAS Attributes - Values 2017.xlsx) is a detailed mapping of data values for each feature in alphabetical order.\n",
    "\n",
    "In the below cell, we've provided some initial code to load in the first two datasets. Note for all of the `.csv` data files in this project that they're semicolon (`;`) delimited, so an additional argument in the [`read_csv()`](https://pandas.pydata.org/pandas-docs/stable/generated/pandas.read_csv.html) call has been included to read in the data properly. Also, considering the size of the datasets, it may take some time for them to load completely.\n",
    "\n",
    "You'll notice when the data is loaded in that a warning message will immediately pop up. Before you really start digging into the modeling and analysis, you're going to need to perform some cleaning. Take some time to browse the structure of the data and look over the informational spreadsheets to understand the data values. Make some decisions on which features to keep, which features to drop, and if any revisions need to be made on data formats. It'll be a good idea to create a function with pre-processing steps, since you'll need to clean all of the datasets before you work with them."
   ]
  },
  {
   "cell_type": "code",
   "execution_count": 2,
   "id": "07ff9908-e5a6-46dd-ab91-f323687d11cf",
   "metadata": {},
   "outputs": [],
   "source": [
    "def nullcols_check(df):\n",
    "    df_nullcols =  pd.DataFrame(data = df.isnull().sum(axis=0))\n",
    "    df_nullcols['pc_rows_null'] = (df_nullcols.iloc[:,0]/df.shape[0])*100\n",
    "    \n",
    "    plt.hist(df_nullcols['pc_rows_null']);\n",
    "    plt.title('How many mostly null columns in df')\n",
    "    plt.xlabel('Percentage of null rows per columns')\n",
    "    plt.ylabel('Frequency')\n",
    "    plt.show()\n",
    "    \n",
    "    return df_nullcols\n",
    "\n",
    "def nullrows_check(df):\n",
    "    df_nullrows =  pd.DataFrame(data = df.isnull().sum(axis=1))\n",
    "    df_nullrows['pc_columns_null'] = (df_nullrows.iloc[:,0]/df.shape[1])*100\n",
    "    \n",
    "    plt.hist(df_nullrows['pc_columns_null']);\n",
    "    plt.title('How many mostly null rows in df')\n",
    "    plt.xlabel('Percentage of null entries per row')\n",
    "    plt.ylabel('Frequency')\n",
    "    plt.show()\n",
    "    \n",
    "    return df_nullrows"
   ]
  },
  {
   "cell_type": "markdown",
   "id": "1008b795-e148-451c-a563-bd52fa686f99",
   "metadata": {},
   "source": [
    "### First look at Demographics data for the general population of Germany\n",
    "891 211 persons (rows) x 366 features (columns)."
   ]
  },
  {
   "cell_type": "code",
   "execution_count": 3,
   "id": "28106788-56a2-4108-984f-2863b48f9fbb",
   "metadata": {
    "scrolled": true
   },
   "outputs": [
    {
     "name": "stderr",
     "output_type": "stream",
     "text": [
      "/opt/conda/lib/python3.6/site-packages/IPython/core/interactiveshell.py:2785: DtypeWarning: Columns (18,19) have mixed types. Specify dtype option on import or set low_memory=False.\n",
      "  interactivity=interactivity, compiler=compiler, result=result)\n"
     ]
    }
   ],
   "source": [
    "# load in the data\n",
    "azdias = pd.read_csv('../../data/Term2/capstone/arvato_data/Udacity_AZDIAS_052018.csv', sep=';')"
   ]
  },
  {
   "cell_type": "code",
   "execution_count": 4,
   "id": "1ec46ef5-fce8-4747-a930-6ffa7939b330",
   "metadata": {},
   "outputs": [
    {
     "data": {
      "image/png": "[encoded data removed]",
      "text/plain": [
       "<matplotlib.figure.Figure at 0x7f1f7883ca90>"
      ]
     },
     "metadata": {
      "needs_background": "light"
     },
     "output_type": "display_data"
    },
    {
     "data": {
      "text/html": [
       "<div>\n",
       "<style scoped>\n",
       "    .dataframe tbody tr th:only-of-type {\n",
       "        vertical-align: middle;\n",
       "    }\n",
       "\n",
       "    .dataframe tbody tr th {\n",
       "        vertical-align: top;\n",
       "    }\n",
       "\n",
       "    .dataframe thead th {\n",
       "        text-align: right;\n",
       "    }\n",
       "</style>\n",
       "<table border=\"1\" class=\"dataframe\">\n",
       "  <thead>\n",
       "    <tr style=\"text-align: right;\">\n",
       "      <th></th>\n",
       "      <th>0</th>\n",
       "      <th>pc_rows_null</th>\n",
       "    </tr>\n",
       "  </thead>\n",
       "  <tbody>\n",
       "    <tr>\n",
       "      <th>LNR</th>\n",
       "      <td>0</td>\n",
       "      <td>0.000000</td>\n",
       "    </tr>\n",
       "    <tr>\n",
       "      <th>AGER_TYP</th>\n",
       "      <td>0</td>\n",
       "      <td>0.000000</td>\n",
       "    </tr>\n",
       "    <tr>\n",
       "      <th>AKT_DAT_KL</th>\n",
       "      <td>73499</td>\n",
       "      <td>8.247000</td>\n",
       "    </tr>\n",
       "    <tr>\n",
       "      <th>ALTER_HH</th>\n",
       "      <td>73499</td>\n",
       "      <td>8.247000</td>\n",
       "    </tr>\n",
       "    <tr>\n",
       "      <th>ALTER_KIND1</th>\n",
       "      <td>810163</td>\n",
       "      <td>90.904837</td>\n",
       "    </tr>\n",
       "    <tr>\n",
       "      <th>ALTER_KIND2</th>\n",
       "      <td>861722</td>\n",
       "      <td>96.690047</td>\n",
       "    </tr>\n",
       "    <tr>\n",
       "      <th>ALTER_KIND3</th>\n",
       "      <td>885051</td>\n",
       "      <td>99.307691</td>\n",
       "    </tr>\n",
       "    <tr>\n",
       "      <th>ALTER_KIND4</th>\n",
       "      <td>890016</td>\n",
       "      <td>99.864792</td>\n",
       "    </tr>\n",
       "    <tr>\n",
       "      <th>ALTERSKATEGORIE_FEIN</th>\n",
       "      <td>262947</td>\n",
       "      <td>29.504130</td>\n",
       "    </tr>\n",
       "    <tr>\n",
       "      <th>ANZ_HAUSHALTE_AKTIV</th>\n",
       "      <td>93148</td>\n",
       "      <td>10.451729</td>\n",
       "    </tr>\n",
       "    <tr>\n",
       "      <th>ANZ_HH_TITEL</th>\n",
       "      <td>97008</td>\n",
       "      <td>10.884842</td>\n",
       "    </tr>\n",
       "    <tr>\n",
       "      <th>ANZ_KINDER</th>\n",
       "      <td>73499</td>\n",
       "      <td>8.247000</td>\n",
       "    </tr>\n",
       "    <tr>\n",
       "      <th>ANZ_PERSONEN</th>\n",
       "      <td>73499</td>\n",
       "      <td>8.247000</td>\n",
       "    </tr>\n",
       "    <tr>\n",
       "      <th>ANZ_STATISTISCHE_HAUSHALTE</th>\n",
       "      <td>93148</td>\n",
       "      <td>10.451729</td>\n",
       "    </tr>\n",
       "    <tr>\n",
       "      <th>ANZ_TITEL</th>\n",
       "      <td>73499</td>\n",
       "      <td>8.247000</td>\n",
       "    </tr>\n",
       "    <tr>\n",
       "      <th>ARBEIT</th>\n",
       "      <td>97216</td>\n",
       "      <td>10.908181</td>\n",
       "    </tr>\n",
       "    <tr>\n",
       "      <th>BALLRAUM</th>\n",
       "      <td>93740</td>\n",
       "      <td>10.518154</td>\n",
       "    </tr>\n",
       "    <tr>\n",
       "      <th>CAMEO_DEU_2015</th>\n",
       "      <td>98979</td>\n",
       "      <td>11.106000</td>\n",
       "    </tr>\n",
       "    <tr>\n",
       "      <th>CAMEO_DEUG_2015</th>\n",
       "      <td>98979</td>\n",
       "      <td>11.106000</td>\n",
       "    </tr>\n",
       "    <tr>\n",
       "      <th>CAMEO_INTL_2015</th>\n",
       "      <td>98979</td>\n",
       "      <td>11.106000</td>\n",
       "    </tr>\n",
       "    <tr>\n",
       "      <th>CJT_GESAMTTYP</th>\n",
       "      <td>4854</td>\n",
       "      <td>0.544646</td>\n",
       "    </tr>\n",
       "    <tr>\n",
       "      <th>CJT_KATALOGNUTZER</th>\n",
       "      <td>4854</td>\n",
       "      <td>0.544646</td>\n",
       "    </tr>\n",
       "    <tr>\n",
       "      <th>CJT_TYP_1</th>\n",
       "      <td>4854</td>\n",
       "      <td>0.544646</td>\n",
       "    </tr>\n",
       "    <tr>\n",
       "      <th>CJT_TYP_2</th>\n",
       "      <td>4854</td>\n",
       "      <td>0.544646</td>\n",
       "    </tr>\n",
       "    <tr>\n",
       "      <th>CJT_TYP_3</th>\n",
       "      <td>4854</td>\n",
       "      <td>0.544646</td>\n",
       "    </tr>\n",
       "    <tr>\n",
       "      <th>CJT_TYP_4</th>\n",
       "      <td>4854</td>\n",
       "      <td>0.544646</td>\n",
       "    </tr>\n",
       "    <tr>\n",
       "      <th>CJT_TYP_5</th>\n",
       "      <td>4854</td>\n",
       "      <td>0.544646</td>\n",
       "    </tr>\n",
       "    <tr>\n",
       "      <th>CJT_TYP_6</th>\n",
       "      <td>4854</td>\n",
       "      <td>0.544646</td>\n",
       "    </tr>\n",
       "    <tr>\n",
       "      <th>D19_BANKEN_ANZ_12</th>\n",
       "      <td>0</td>\n",
       "      <td>0.000000</td>\n",
       "    </tr>\n",
       "    <tr>\n",
       "      <th>D19_BANKEN_ANZ_24</th>\n",
       "      <td>0</td>\n",
       "      <td>0.000000</td>\n",
       "    </tr>\n",
       "    <tr>\n",
       "      <th>...</th>\n",
       "      <td>...</td>\n",
       "      <td>...</td>\n",
       "    </tr>\n",
       "    <tr>\n",
       "      <th>SEMIO_KRIT</th>\n",
       "      <td>0</td>\n",
       "      <td>0.000000</td>\n",
       "    </tr>\n",
       "    <tr>\n",
       "      <th>SEMIO_KULT</th>\n",
       "      <td>0</td>\n",
       "      <td>0.000000</td>\n",
       "    </tr>\n",
       "    <tr>\n",
       "      <th>SEMIO_LUST</th>\n",
       "      <td>0</td>\n",
       "      <td>0.000000</td>\n",
       "    </tr>\n",
       "    <tr>\n",
       "      <th>SEMIO_MAT</th>\n",
       "      <td>0</td>\n",
       "      <td>0.000000</td>\n",
       "    </tr>\n",
       "    <tr>\n",
       "      <th>SEMIO_PFLICHT</th>\n",
       "      <td>0</td>\n",
       "      <td>0.000000</td>\n",
       "    </tr>\n",
       "    <tr>\n",
       "      <th>SEMIO_RAT</th>\n",
       "      <td>0</td>\n",
       "      <td>0.000000</td>\n",
       "    </tr>\n",
       "    <tr>\n",
       "      <th>SEMIO_REL</th>\n",
       "      <td>0</td>\n",
       "      <td>0.000000</td>\n",
       "    </tr>\n",
       "    <tr>\n",
       "      <th>SEMIO_SOZ</th>\n",
       "      <td>0</td>\n",
       "      <td>0.000000</td>\n",
       "    </tr>\n",
       "    <tr>\n",
       "      <th>SEMIO_TRADV</th>\n",
       "      <td>0</td>\n",
       "      <td>0.000000</td>\n",
       "    </tr>\n",
       "    <tr>\n",
       "      <th>SEMIO_VERT</th>\n",
       "      <td>0</td>\n",
       "      <td>0.000000</td>\n",
       "    </tr>\n",
       "    <tr>\n",
       "      <th>SHOPPER_TYP</th>\n",
       "      <td>0</td>\n",
       "      <td>0.000000</td>\n",
       "    </tr>\n",
       "    <tr>\n",
       "      <th>SOHO_KZ</th>\n",
       "      <td>73499</td>\n",
       "      <td>8.247000</td>\n",
       "    </tr>\n",
       "    <tr>\n",
       "      <th>STRUKTURTYP</th>\n",
       "      <td>97274</td>\n",
       "      <td>10.914689</td>\n",
       "    </tr>\n",
       "    <tr>\n",
       "      <th>TITEL_KZ</th>\n",
       "      <td>73499</td>\n",
       "      <td>8.247000</td>\n",
       "    </tr>\n",
       "    <tr>\n",
       "      <th>UMFELD_ALT</th>\n",
       "      <td>97786</td>\n",
       "      <td>10.972138</td>\n",
       "    </tr>\n",
       "    <tr>\n",
       "      <th>UMFELD_JUNG</th>\n",
       "      <td>97786</td>\n",
       "      <td>10.972138</td>\n",
       "    </tr>\n",
       "    <tr>\n",
       "      <th>UNGLEICHENN_FLAG</th>\n",
       "      <td>73499</td>\n",
       "      <td>8.247000</td>\n",
       "    </tr>\n",
       "    <tr>\n",
       "      <th>VERDICHTUNGSRAUM</th>\n",
       "      <td>97274</td>\n",
       "      <td>10.914689</td>\n",
       "    </tr>\n",
       "    <tr>\n",
       "      <th>VERS_TYP</th>\n",
       "      <td>0</td>\n",
       "      <td>0.000000</td>\n",
       "    </tr>\n",
       "    <tr>\n",
       "      <th>VHA</th>\n",
       "      <td>73499</td>\n",
       "      <td>8.247000</td>\n",
       "    </tr>\n",
       "    <tr>\n",
       "      <th>VHN</th>\n",
       "      <td>121196</td>\n",
       "      <td>13.598872</td>\n",
       "    </tr>\n",
       "    <tr>\n",
       "      <th>VK_DHT4A</th>\n",
       "      <td>75917</td>\n",
       "      <td>8.518314</td>\n",
       "    </tr>\n",
       "    <tr>\n",
       "      <th>VK_DISTANZ</th>\n",
       "      <td>75917</td>\n",
       "      <td>8.518314</td>\n",
       "    </tr>\n",
       "    <tr>\n",
       "      <th>VK_ZG11</th>\n",
       "      <td>75917</td>\n",
       "      <td>8.518314</td>\n",
       "    </tr>\n",
       "    <tr>\n",
       "      <th>W_KEIT_KIND_HH</th>\n",
       "      <td>107602</td>\n",
       "      <td>12.073549</td>\n",
       "    </tr>\n",
       "    <tr>\n",
       "      <th>WOHNDAUER_2008</th>\n",
       "      <td>73499</td>\n",
       "      <td>8.247000</td>\n",
       "    </tr>\n",
       "    <tr>\n",
       "      <th>WOHNLAGE</th>\n",
       "      <td>93148</td>\n",
       "      <td>10.451729</td>\n",
       "    </tr>\n",
       "    <tr>\n",
       "      <th>ZABEOTYP</th>\n",
       "      <td>0</td>\n",
       "      <td>0.000000</td>\n",
       "    </tr>\n",
       "    <tr>\n",
       "      <th>ANREDE_KZ</th>\n",
       "      <td>0</td>\n",
       "      <td>0.000000</td>\n",
       "    </tr>\n",
       "    <tr>\n",
       "      <th>ALTERSKATEGORIE_GROB</th>\n",
       "      <td>0</td>\n",
       "      <td>0.000000</td>\n",
       "    </tr>\n",
       "  </tbody>\n",
       "</table>\n",
       "<p>366 rows × 2 columns</p>\n",
       "</div>"
      ],
      "text/plain": [
       "                                 0  pc_rows_null\n",
       "LNR                              0      0.000000\n",
       "AGER_TYP                         0      0.000000\n",
       "AKT_DAT_KL                   73499      8.247000\n",
       "ALTER_HH                     73499      8.247000\n",
       "ALTER_KIND1                 810163     90.904837\n",
       "ALTER_KIND2                 861722     96.690047\n",
       "ALTER_KIND3                 885051     99.307691\n",
       "ALTER_KIND4                 890016     99.864792\n",
       "ALTERSKATEGORIE_FEIN        262947     29.504130\n",
       "ANZ_HAUSHALTE_AKTIV          93148     10.451729\n",
       "ANZ_HH_TITEL                 97008     10.884842\n",
       "ANZ_KINDER                   73499      8.247000\n",
       "ANZ_PERSONEN                 73499      8.247000\n",
       "ANZ_STATISTISCHE_HAUSHALTE   93148     10.451729\n",
       "ANZ_TITEL                    73499      8.247000\n",
       "ARBEIT                       97216     10.908181\n",
       "BALLRAUM                     93740     10.518154\n",
       "CAMEO_DEU_2015               98979     11.106000\n",
       "CAMEO_DEUG_2015              98979     11.106000\n",
       "CAMEO_INTL_2015              98979     11.106000\n",
       "CJT_GESAMTTYP                 4854      0.544646\n",
       "CJT_KATALOGNUTZER             4854      0.544646\n",
       "CJT_TYP_1                     4854      0.544646\n",
       "CJT_TYP_2                     4854      0.544646\n",
       "CJT_TYP_3                     4854      0.544646\n",
       "CJT_TYP_4                     4854      0.544646\n",
       "CJT_TYP_5                     4854      0.544646\n",
       "CJT_TYP_6                     4854      0.544646\n",
       "D19_BANKEN_ANZ_12                0      0.000000\n",
       "D19_BANKEN_ANZ_24                0      0.000000\n",
       "...                            ...           ...\n",
       "SEMIO_KRIT                       0      0.000000\n",
       "SEMIO_KULT                       0      0.000000\n",
       "SEMIO_LUST                       0      0.000000\n",
       "SEMIO_MAT                        0      0.000000\n",
       "SEMIO_PFLICHT                    0      0.000000\n",
       "SEMIO_RAT                        0      0.000000\n",
       "SEMIO_REL                        0      0.000000\n",
       "SEMIO_SOZ                        0      0.000000\n",
       "SEMIO_TRADV                      0      0.000000\n",
       "SEMIO_VERT                       0      0.000000\n",
       "SHOPPER_TYP                      0      0.000000\n",
       "SOHO_KZ                      73499      8.247000\n",
       "STRUKTURTYP                  97274     10.914689\n",
       "TITEL_KZ                     73499      8.247000\n",
       "UMFELD_ALT                   97786     10.972138\n",
       "UMFELD_JUNG                  97786     10.972138\n",
       "UNGLEICHENN_FLAG             73499      8.247000\n",
       "VERDICHTUNGSRAUM             97274     10.914689\n",
       "VERS_TYP                         0      0.000000\n",
       "VHA                          73499      8.247000\n",
       "VHN                         121196     13.598872\n",
       "VK_DHT4A                     75917      8.518314\n",
       "VK_DISTANZ                   75917      8.518314\n",
       "VK_ZG11                      75917      8.518314\n",
       "W_KEIT_KIND_HH              107602     12.073549\n",
       "WOHNDAUER_2008               73499      8.247000\n",
       "WOHNLAGE                     93148     10.451729\n",
       "ZABEOTYP                         0      0.000000\n",
       "ANREDE_KZ                        0      0.000000\n",
       "ALTERSKATEGORIE_GROB             0      0.000000\n",
       "\n",
       "[366 rows x 2 columns]"
      ]
     },
     "execution_count": 4,
     "metadata": {},
     "output_type": "execute_result"
    }
   ],
   "source": [
    "## Look for nans in columns\n",
    "azdias_nullcols = nullcols_check(azdias)\n",
    "azdias_nullcols"
   ]
  },
  {
   "cell_type": "markdown",
   "id": "c005c885-ca90-4ca8-8232-5a595fdc49b7",
   "metadata": {},
   "source": [
    "#### Cleaning"
   ]
  },
  {
   "cell_type": "code",
   "execution_count": 4,
   "id": "7ffaf38a-cb84-42c0-8f88-ad6d02432088",
   "metadata": {},
   "outputs": [],
   "source": [
    "def clean_arvato_data(df):\n",
    "    \"\"\"\n",
    "    Function specifically for cleaning the population and customer dataframes\n",
    "        \n",
    "    1. Column(s) that can be changed following investigation:\n",
    "    \n",
    "        ALTER_KINDX - binned into new categorical column denoting whether:\n",
    "            0 - no children\n",
    "            1 - child(ren) under 5\n",
    "            2 - child(ren) under 5 - 10\n",
    "            3 - child(ren) under 10 - 15\n",
    "            4 - child(ren) under 15 - 20\n",
    "            5 - child(ren) over 20\n",
    "        \n",
    "        D19_BANKEN_ONLINE_QUOTE_12:\n",
    "            fill null values with 0 if D19_BANKEN_ONLINE_DATUM = 6, 7, 8, 9, 10\n",
    "            \n",
    "        D19_GESAMT_ONLINE_QUOTE_12:\n",
    "            fill null values with 0 if D19_GESAMT_ONLINE_DATUM = 6, 7, 8, 9, 10\n",
    "            \n",
    "        D19_VERSAND_ONLINE_QUOTE_12:\n",
    "            fill null values with 0 if D19_VERSAND_ONLINE_DATUM = 6, 7, 8, 9, 10\n",
    "       \n",
    "    2. Columns that may be useful have nulls pushed to existing unknown category:\n",
    "        \n",
    "        D19_KONSUMTYP\n",
    "        'KBA05_' columns\n",
    "        REGIOTYP\n",
    "        KKK\n",
    "        MOBI_REGIO\n",
    "        'PLZ8_' columns\n",
    "        'KBA13_' columns\n",
    "        RELAT_AB\n",
    "        ORTSGR_KLS9\n",
    "        INNENSTADT\n",
    "        EWDICHTE\n",
    "        BALLRAUM\n",
    "        ALTER_HH\n",
    "        CAMEO_DEUG_2015\n",
    "        EWDICHTE\n",
    "        KK_KUNDENTYP\n",
    "        ALTERSKATEGORIE_FEIN, assuming that like ALTERSKATEGORIE_GROSS, -1 or 0 = unknown\n",
    "        \n",
    "    3. Any columns that at this point are more than 50% null are dropped\n",
    "    \n",
    "    4. Any rows that are more than 50% null are dropped\n",
    "    \n",
    "    5. Otherwise they are filled with the mode (if no unknown category available):\n",
    "        D19_KONSUMTYP\n",
    "        MOBI_REGIO\n",
    "        PLZ8_BAUMAX\n",
    "        \n",
    "    6. 'Unknown' is sorted out so that only one category for each column represents unknown (-1)\n",
    "    \n",
    "    7. 'Mixed type' columns are fixed:\n",
    "        CAMEO_DEUG_2015\n",
    "        CAMEO_INTL_2015\n",
    "        \n",
    "    8. Categorical columns converted to categorical type:\n",
    "        \n",
    "    \n",
    "    \"\"\"\n",
    "    ######## 1 ######## REWORK SOME COLUMNS TO ADDRESS NULLS\n",
    "    \n",
    "    try: # if cleaning has been done previously\n",
    "        cols_to_use = ['ALTER_KIND1', 'ALTER_KIND2', 'ALTER_KIND3', 'ALTER_KIND4']\n",
    "        df['youngest_child'] = df.loc[:, cols_to_use].min(axis=1)\n",
    "        df['youngest_child'].fillna(value=0, inplace=True)\n",
    "        df['youngest_child_bin'] = np.NaN\n",
    "        df.loc[(df['youngest_child'] == 0), 'youngest_child_bin'] = 0\n",
    "        df.loc[((df['youngest_child'] > 0) & (df['youngest_child'] < 5)), 'youngest_child_bin'] = 1\n",
    "        df.loc[((df['youngest_child'] >= 5) & (df['youngest_child'] < 10)), 'youngest_child_bin'] = 2\n",
    "        df.loc[((df['youngest_child'] >= 10) & (df['youngest_child'] < 15)), 'youngest_child_bin'] = 3\n",
    "        df.loc[((df['youngest_child'] >= 15) & (df['youngest_child'] < 20)), 'youngest_child_bin'] = 4\n",
    "        df.loc[(df['youngest_child'] >= 20), 'youngest_child_bin'] = 5\n",
    "        df.drop(labels=cols_to_use, axis=1, inplace=True)\n",
    "        print(f'{cols_to_use} updated')\n",
    "    except:\n",
    "        pass\n",
    "    \n",
    "    try:\n",
    "        for col, source in zip(['D19_BANKEN_ONLINE_QUOTE_12', 'D19_GESAMT_ONLINE_QUOTE_12',\n",
    "                                'D19_VERSAND_ONLINE_QUOTE_12', 'D19_VERSI_ONLINE_QUOTE_12',\n",
    "                               'D19_TELKO_ONLINE_QUOTE_12'],\n",
    "                               ['D19_BANKEN_ONLINE_DATUM', 'D19_GESAMT_ONLINE_DATUM',\n",
    "                                'D19_VERSAND_ONLINE_DATUM', 'D19_VERSI_ONLINE_DATUM',\n",
    "                               'D19_TELKO_ONLINE_DATUM']):\n",
    "            df.loc[(df[source].isin([6, 7, 8, 9, 10])), col] = 0\n",
    "        print('D19 cols updated')\n",
    "    except:\n",
    "        pass\n",
    "    \n",
    "    ######## 2 ######## FILL NAN VALUES WITH UNKNOWN CATEGORY MAPPING\n",
    "    \n",
    "    df['D19_KONSUMTYP'].fillna(value=0, inplace=True)\n",
    "    \n",
    "    for col in df.columns:\n",
    "        if 'KBA05_' in col:\n",
    "            df[col].fillna(value=-1, inplace=True)\n",
    "        \n",
    "    for col in ['REGIOTYP', 'KKK']:\n",
    "        df[col].fillna(value=-1, inplace=True) \n",
    "    for col in df.columns:\n",
    "        if ('PLZ8_' in col) & (col != 'PLZ8_BAUMAX'):\n",
    "            df[col].fillna(value=-1, inplace=True)\n",
    "        elif 'KBA13_' in col:\n",
    "            df[col].fillna(value=-1, inplace=True)\n",
    "            \n",
    "    for col in ['RELAT_AB', 'ORTSGR_KLS9', 'INNENSTADT', 'EWDICHTE', 'BALLRAUM', 'CAMEO_DEUG_2015',\n",
    "                'EWDICHTE', 'KK_KUNDENTYP', 'ALTERSKATEGORIE_FEIN']:\n",
    "        df[col].fillna(value=-1, inplace=True) \n",
    "        \n",
    "    df['ALTER_HH'].fillna(value=0, inplace=True)\n",
    "    \n",
    "    print('NaNs pushed to unknown where possible')\n",
    "    \n",
    "    ######## 3 ######## REMOVE COLUMNS WITH >= 50% NULLS\n",
    "    \n",
    "    for col in df.columns:\n",
    "        if df[col].isna().sum() >0:\n",
    "            if (df[col].isna().sum())/(df[col].count()) >= 0.5:\n",
    "                print(f'column {col} dropped due to >50% nulls')\n",
    "                df.drop(col, axis=1, inplace=True)\n",
    "    \n",
    "    ######## 4 ######## REMOVE ROWS WITH >= 50% NULLS\n",
    "    \n",
    "    previous_rows = df.shape[1]\n",
    "    threshold = df.shape[1]/2\n",
    "    df.dropna(axis=0, thresh=threshold)\n",
    "    print(f'{previous_rows-df.shape[1]} majority-null rows dropped')\n",
    "    \n",
    "    ######## 5 ######## IMPUTE REMAINING NULLS BY IMPUTATION USING COLUMN MODE (better for categorical than mean!)\n",
    "    \n",
    "    i=0\n",
    "    for col in df.columns:\n",
    "        if df[col].isna().sum() >0:\n",
    "            df.fillna(value=df[col].mode()[0], inplace=True)\n",
    "            i+=1\n",
    "    print(f'{i} columns had nulls imputed with mode')\n",
    "    \n",
    "    ######## 6 ######## ENSURE UNKNOWN IS ONE CATEGORY ONLY (-1)\n",
    "\n",
    "    # Columns with -1, 0 for unknown: #\n",
    "    columns0 = ['ALTERSKATEGORIE_GROB', 'ANREDE_KZ', 'GEBAEUDETYP', 'HH_EINKOMMEN_SCORE', \n",
    "                'KBA05_BAUMAX', 'KBA05_GBZ', 'KKK', 'NATIONALITAET_KZ', 'PRAEGENDE_JUGENDJAHRE', 'REGIOTYP', 'TITEL_KZ', \n",
    "                'WOHNDAUER_2008', 'GEOSCORE_KLS7', 'HAUSHALTSSTRUKTUR', 'WACHSTUMSGEBIET_NB', 'W_KEIT_KIND_HH']\n",
    "    for col in columns0:\n",
    "        # in case column has been dropped previously:\n",
    "        try:\n",
    "            df.loc[(df[col] == 0), col] = -1\n",
    "        except Exception as inst:\n",
    "            print(f'cannot correct {col}:')\n",
    "            print(f'    {type(inst)}')       # the exception instance\n",
    "            print(f'    {inst.args}')        # arguments stored in .args\n",
    "            print(f'    {inst}') \n",
    "            \n",
    "\n",
    "    # Columns with -1, 9 for unknown:\n",
    "    columns9 = ['KBA05_ALTER1','KBA05_ALTER2','KBA05_ALTER3','KBA05_ALTER4','KBA05_ANHANG','KBA05_AUTOQUOT','KBA05_CCM1',\n",
    "                'KBA05_CCM2','KBA05_CCM3','KBA05_CCM4','KBA05_DIESEL','KBA05_FRAU','KBA05_HERST1','KBA05_HERST2','KBA05_HERST3',\n",
    "                'KBA05_HERST4','KBA05_HERST5','KBA05_HERSTTEMP','KBA05_KRSAQUOT','KBA05_KRSHERST1','KBA05_KRSHERST2',\n",
    "                'KBA05_KRSHERST3','KBA05_KRSKLEIN','KBA05_KRSOBER','KBA05_KRSVAN','KBA05_KRSZUL','KBA05_KW1','KBA05_KW2',\n",
    "                'KBA05_KW3','KBA05_MAXAH','KBA05_MAXBJ','KBA05_MAXHERST','KBA05_MAXSEG','KBA05_MAXVORB','KBA05_MOD1',\n",
    "                'KBA05_MOD2','KBA05_MOD3','KBA05_MOD4','KBA05_MOD8','KBA05_MODTEMP','KBA05_MOTOR','KBA05_MOTRAD','KBA05_SEG1',\n",
    "                'KBA05_SEG10','KBA05_SEG2','KBA05_SEG3','KBA05_SEG4','KBA05_SEG5','KBA05_SEG6','KBA05_SEG7','KBA05_SEG8',\n",
    "                'KBA05_SEG9','KBA05_VORB0','KBA05_VORB1','KBA05_VORB2','KBA05_ZUL1','KBA05_ZUL2','KBA05_ZUL3','KBA05_ZUL4',\n",
    "                'RELAT_AB','SEMIO_DOM','SEMIO_ERL','SEMIO_FAM','SEMIO_KAEM','SEMIO_KRIT','SEMIO_KULT','SEMIO_LUST','SEMIO_MAT',\n",
    "                'SEMIO_PFLICHT','SEMIO_RAT','SEMIO_REL','SEMIO_SOZ','SEMIO_TRADV','SEMIO_VERT','ZABEOTYP']\n",
    "    for col in columns9:\n",
    "        # in case column has been dropped previously:\n",
    "        try:\n",
    "            df.loc[(df[col] == 9), col] = -1\n",
    "        except Exception as inst:\n",
    "            print(f'cannot correct {col}:')\n",
    "            print(f'    {type(inst)}')       # the exception instance\n",
    "            print(f'    {inst.args}')        # arguments stored in .args\n",
    "            print(f'    {inst}') \n",
    "    \n",
    "    print('Unknowns forced to single category')\n",
    "    \n",
    "    ######## 7 ######## FIX MIXED DATA TYPES (SEE ERROR ON IMPORT)\n",
    "    \n",
    "    # in case of multiple partial passes through cleaning during development:\n",
    "    try:\n",
    "        df.loc[(df['CAMEO_DEUG_2015'] == 'X'), 'CAMEO_DEUG_2015'] = -1\n",
    "    except:\n",
    "        pass\n",
    "    try:\n",
    "        df.loc[(df['CAMEO_INTL_2015'] == 'XX'), 'CAMEO_INTL_2015'] = -1\n",
    "    except:\n",
    "        pass\n",
    "    for col in ['CAMEO_DEUG_2015','CAMEO_INTL_2015']:\n",
    "        df[col].fillna(value=-1, inplace=True) # may not be necessary not sure\n",
    "        df[col] = [int(x) for x in df[col]] \n",
    "        \n",
    "    print('Mixed data types fixed')\n",
    "    \n",
    "    ######## 8 ######## CONVERT TO CATEGORICAL\n",
    "    \n",
    "    ## Easier to convert categoricals by first pulling out columns that are NOT categorical\n",
    "    noncat = ['GEBURTSJAHR', 'KBA13_ANZAHL_PKW', 'MIN_GEBAEUDEJAHR']\n",
    "\n",
    "    for col in df.columns:\n",
    "        if col in noncat:\n",
    "            pass\n",
    "        else:\n",
    "            df[col].astype('category')\n",
    "    \n",
    "    print('Columns converted to categorical')\n",
    "    \n",
    "    ## Print summary?\n",
    "        \n",
    "    for col in df.columns:\n",
    "        if df[col].isna().sum() >0:\n",
    "            print(col)\n",
    "    print('finished')\n",
    "    print(f'size of dataset: {df.shape}')\n",
    "\n",
    "    return df"
   ]
  },
  {
   "cell_type": "code",
   "execution_count": 5,
   "id": "73ca8a1c-089d-48ce-9c71-fbe1f771fc13",
   "metadata": {},
   "outputs": [
    {
     "name": "stdout",
     "output_type": "stream",
     "text": [
      "['ALTER_KIND1', 'ALTER_KIND2', 'ALTER_KIND3', 'ALTER_KIND4'] updated\n",
      "NaNs pushed to unknown where possible\n",
      "column EXTSEL992 dropped due to >50% nulls\n",
      "0 majority-null rows dropped\n",
      "1 columns had nulls imputed with mode\n",
      "cannot correct GEOSCORE_KLS7:\n",
      "    <class 'KeyError'>\n",
      "    ('GEOSCORE_KLS7',)\n",
      "    'GEOSCORE_KLS7'\n",
      "cannot correct HAUSHALTSSTRUKTUR:\n",
      "    <class 'KeyError'>\n",
      "    ('HAUSHALTSSTRUKTUR',)\n",
      "    'HAUSHALTSSTRUKTUR'\n",
      "cannot correct WACHSTUMSGEBIET_NB:\n",
      "    <class 'KeyError'>\n",
      "    ('WACHSTUMSGEBIET_NB',)\n",
      "    'WACHSTUMSGEBIET_NB'\n",
      "Unknowns forced to single category\n",
      "Mixed data types fixed\n",
      "Columns converted to categorical\n",
      "finished\n",
      "size of dataset: (891221, 363)\n"
     ]
    }
   ],
   "source": [
    "cleaned_azdias = clean_arvato_data(azdias)"
   ]
  },
  {
   "cell_type": "code",
   "execution_count": 9,
   "id": "7bf5d427-e234-4965-8e33-bd9bce80dcc3",
   "metadata": {
    "scrolled": true
   },
   "outputs": [
    {
     "name": "stdout",
     "output_type": "stream",
     "text": [
      "for LNR, min=191653, max=1082873\n",
      "for AGER_TYP, min=-1, max=3\n",
      "for AKT_DAT_KL, min=1.0, max=9.0\n",
      "for ALTER_HH, min=0.0, max=21.0\n",
      "for ALTERSKATEGORIE_FEIN, min=-1.0, max=25.0\n",
      "for ANZ_HAUSHALTE_AKTIV, min=0.0, max=595.0\n",
      "for ANZ_HH_TITEL, min=0.0, max=23.0\n",
      "for ANZ_KINDER, min=0.0, max=11.0\n",
      "for ANZ_PERSONEN, min=0.0, max=45.0\n",
      "for ANZ_STATISTISCHE_HAUSHALTE, min=0.0, max=449.0\n",
      "for ANZ_TITEL, min=0.0, max=6.0\n",
      "for ARBEIT, min=1.0, max=9.0\n",
      "for BALLRAUM, min=-1.0, max=7.0\n",
      "CAMEO_DEU_2015 is of mixed type\n",
      "for CAMEO_DEUG_2015, min=-1, max=9\n",
      "for CAMEO_INTL_2015, min=-1, max=55\n",
      "for CJT_GESAMTTYP, min=1.0, max=6.0\n",
      "for CJT_KATALOGNUTZER, min=1.0, max=5.0\n",
      "for CJT_TYP_1, min=1.0, max=5.0\n",
      "for CJT_TYP_2, min=1.0, max=5.0\n",
      "for CJT_TYP_3, min=1.0, max=5.0\n",
      "for CJT_TYP_4, min=1.0, max=5.0\n",
      "for CJT_TYP_5, min=1.0, max=5.0\n",
      "for CJT_TYP_6, min=1.0, max=5.0\n",
      "for D19_BANKEN_ANZ_12, min=0, max=6\n",
      "for D19_BANKEN_ANZ_24, min=0, max=6\n",
      "for D19_BANKEN_DATUM, min=1, max=10\n",
      "for D19_BANKEN_DIREKT, min=0, max=7\n",
      "for D19_BANKEN_GROSS, min=0, max=6\n",
      "for D19_BANKEN_LOKAL, min=0, max=7\n",
      "for D19_BANKEN_OFFLINE_DATUM, min=1, max=10\n",
      "for D19_BANKEN_ONLINE_DATUM, min=1, max=10\n",
      "for D19_BANKEN_ONLINE_QUOTE_12, min=0.0, max=10.0\n",
      "for D19_BANKEN_REST, min=0, max=7\n",
      "for D19_BEKLEIDUNG_GEH, min=0, max=7\n",
      "for D19_BEKLEIDUNG_REST, min=0, max=7\n",
      "for D19_BILDUNG, min=0, max=7\n",
      "for D19_BIO_OEKO, min=0, max=7\n",
      "for D19_BUCH_CD, min=0, max=7\n",
      "for D19_DIGIT_SERV, min=0, max=7\n",
      "for D19_DROGERIEARTIKEL, min=0, max=7\n",
      "for D19_ENERGIE, min=0, max=7\n",
      "for D19_FREIZEIT, min=0, max=7\n",
      "for D19_GARTEN, min=0, max=7\n",
      "for D19_GESAMT_ANZ_12, min=0, max=6\n",
      "for D19_GESAMT_ANZ_24, min=0, max=6\n",
      "for D19_GESAMT_DATUM, min=1, max=10\n",
      "for D19_GESAMT_OFFLINE_DATUM, min=1, max=10\n",
      "for D19_GESAMT_ONLINE_DATUM, min=1, max=10\n",
      "for D19_GESAMT_ONLINE_QUOTE_12, min=0.0, max=10.0\n",
      "for D19_HANDWERK, min=0, max=7\n",
      "for D19_HAUS_DEKO, min=0, max=7\n",
      "for D19_KINDERARTIKEL, min=0, max=7\n",
      "for D19_KONSUMTYP, min=0.0, max=9.0\n",
      "for D19_KONSUMTYP_MAX, min=1, max=9\n",
      "for D19_KOSMETIK, min=0, max=7\n",
      "for D19_LEBENSMITTEL, min=0, max=7\n",
      "D19_LETZTER_KAUF_BRANCHE is of mixed type\n",
      "for D19_LOTTO, min=0.0, max=7.0\n",
      "for D19_NAHRUNGSERGAENZUNG, min=0, max=7\n",
      "for D19_RATGEBER, min=0, max=7\n",
      "for D19_REISEN, min=0, max=7\n",
      "for D19_SAMMELARTIKEL, min=0, max=7\n",
      "for D19_SCHUHE, min=0, max=7\n",
      "for D19_SONSTIGE, min=0, max=7\n",
      "for D19_SOZIALES, min=0.0, max=5.0\n",
      "for D19_TECHNIK, min=0, max=7\n",
      "for D19_TELKO_ANZ_12, min=0, max=6\n",
      "for D19_TELKO_ANZ_24, min=0, max=6\n",
      "for D19_TELKO_DATUM, min=1, max=10\n",
      "for D19_TELKO_MOBILE, min=0, max=7\n",
      "for D19_TELKO_OFFLINE_DATUM, min=1, max=10\n",
      "for D19_TELKO_ONLINE_DATUM, min=1, max=10\n",
      "for D19_TELKO_ONLINE_QUOTE_12, min=0.0, max=10.0\n",
      "for D19_TELKO_REST, min=0, max=7\n",
      "for D19_TIERARTIKEL, min=0, max=7\n",
      "for D19_VERSAND_ANZ_12, min=0, max=6\n",
      "for D19_VERSAND_ANZ_24, min=0, max=6\n",
      "for D19_VERSAND_DATUM, min=1, max=10\n",
      "for D19_VERSAND_OFFLINE_DATUM, min=1, max=10\n",
      "for D19_VERSAND_ONLINE_DATUM, min=1, max=10\n",
      "for D19_VERSAND_ONLINE_QUOTE_12, min=0.0, max=10.0\n",
      "for D19_VERSAND_REST, min=0, max=7\n",
      "for D19_VERSI_ANZ_12, min=0, max=6\n",
      "for D19_VERSI_ANZ_24, min=0, max=6\n",
      "for D19_VERSI_DATUM, min=1, max=10\n",
      "for D19_VERSI_OFFLINE_DATUM, min=1, max=10\n",
      "for D19_VERSI_ONLINE_DATUM, min=1, max=10\n",
      "for D19_VERSI_ONLINE_QUOTE_12, min=0.0, max=10.0\n",
      "for D19_VERSICHERUNGEN, min=0, max=7\n",
      "for D19_VOLLSORTIMENT, min=0, max=7\n",
      "for D19_WEIN_FEINKOST, min=0, max=7\n",
      "for DSL_FLAG, min=0.0, max=1.0\n",
      "EINGEFUEGT_AM is of mixed type\n",
      "for EINGEZOGENAM_HH_JAHR, min=1.0, max=2018.0\n",
      "for EWDICHTE, min=-1.0, max=6.0\n",
      "for FINANZ_ANLEGER, min=1, max=5\n",
      "for FINANZ_HAUSBAUER, min=1, max=5\n",
      "for FINANZ_MINIMALIST, min=1, max=5\n",
      "for FINANZ_SPARER, min=1, max=5\n",
      "for FINANZ_UNAUFFAELLIGER, min=1, max=5\n",
      "for FINANZ_VORSORGER, min=1, max=5\n",
      "for FINANZTYP, min=1, max=6\n",
      "for FIRMENDICHTE, min=1.0, max=5.0\n",
      "for GEBAEUDETYP, min=1.0, max=8.0\n",
      "for GEBAEUDETYP_RASTER, min=1.0, max=5.0\n",
      "for GEBURTSJAHR, min=0, max=2017\n",
      "for GEMEINDETYP, min=1.0, max=50.0\n",
      "for GFK_URLAUBERTYP, min=1.0, max=12.0\n",
      "for GREEN_AVANTGARDE, min=0, max=1\n",
      "for HEALTH_TYP, min=-1, max=3\n",
      "for HH_DELTA_FLAG, min=0.0, max=1.0\n",
      "for HH_EINKOMMEN_SCORE, min=1.0, max=6.0\n",
      "for INNENSTADT, min=-1.0, max=8.0\n",
      "for KBA05_ALTER1, min=-1.0, max=4.0\n",
      "for KBA05_ALTER2, min=-1.0, max=5.0\n",
      "for KBA05_ALTER3, min=-1.0, max=5.0\n",
      "for KBA05_ALTER4, min=-1.0, max=5.0\n",
      "for KBA05_ANHANG, min=-1.0, max=3.0\n",
      "for KBA05_ANTG1, min=-1.0, max=4.0\n",
      "for KBA05_ANTG2, min=-1.0, max=4.0\n",
      "for KBA05_ANTG3, min=-1.0, max=3.0\n",
      "for KBA05_ANTG4, min=-1.0, max=2.0\n",
      "for KBA05_AUTOQUOT, min=-1.0, max=5.0\n",
      "for KBA05_BAUMAX, min=-1.0, max=5.0\n",
      "for KBA05_CCM1, min=-1.0, max=5.0\n",
      "for KBA05_CCM2, min=-1.0, max=5.0\n",
      "for KBA05_CCM3, min=-1.0, max=5.0\n",
      "for KBA05_CCM4, min=-1.0, max=4.0\n",
      "for KBA05_DIESEL, min=-1.0, max=4.0\n",
      "for KBA05_FRAU, min=-1.0, max=5.0\n",
      "for KBA05_GBZ, min=-1.0, max=5.0\n",
      "for KBA05_HERST1, min=-1.0, max=5.0\n",
      "for KBA05_HERST2, min=-1.0, max=5.0\n",
      "for KBA05_HERST3, min=-1.0, max=5.0\n",
      "for KBA05_HERST4, min=-1.0, max=5.0\n",
      "for KBA05_HERST5, min=-1.0, max=5.0\n",
      "for KBA05_HERSTTEMP, min=-1.0, max=5.0\n",
      "for KBA05_KRSAQUOT, min=-1.0, max=5.0\n",
      "for KBA05_KRSHERST1, min=-1.0, max=5.0\n",
      "for KBA05_KRSHERST2, min=-1.0, max=5.0\n",
      "for KBA05_KRSHERST3, min=-1.0, max=5.0\n",
      "for KBA05_KRSKLEIN, min=-1.0, max=3.0\n",
      "for KBA05_KRSOBER, min=-1.0, max=3.0\n",
      "for KBA05_KRSVAN, min=-1.0, max=3.0\n",
      "for KBA05_KRSZUL, min=-1.0, max=3.0\n",
      "for KBA05_KW1, min=-1.0, max=5.0\n",
      "for KBA05_KW2, min=-1.0, max=5.0\n",
      "for KBA05_KW3, min=-1.0, max=4.0\n",
      "for KBA05_MAXAH, min=-1.0, max=5.0\n",
      "for KBA05_MAXBJ, min=-1.0, max=4.0\n",
      "for KBA05_MAXHERST, min=-1.0, max=5.0\n",
      "for KBA05_MAXSEG, min=-1.0, max=4.0\n",
      "for KBA05_MAXVORB, min=-1.0, max=3.0\n",
      "for KBA05_MOD1, min=-1.0, max=4.0\n",
      "for KBA05_MOD2, min=-1.0, max=5.0\n",
      "for KBA05_MOD3, min=-1.0, max=5.0\n",
      "for KBA05_MOD4, min=-1.0, max=5.0\n",
      "for KBA05_MOD8, min=-1.0, max=3.0\n",
      "for KBA05_MODTEMP, min=-1.0, max=6.0\n",
      "for KBA05_MOTOR, min=-1.0, max=4.0\n",
      "for KBA05_MOTRAD, min=-1.0, max=3.0\n",
      "for KBA05_SEG1, min=-1.0, max=3.0\n",
      "for KBA05_SEG10, min=-1.0, max=4.0\n",
      "for KBA05_SEG2, min=-1.0, max=5.0\n",
      "for KBA05_SEG3, min=-1.0, max=5.0\n",
      "for KBA05_SEG4, min=-1.0, max=5.0\n",
      "for KBA05_SEG5, min=-1.0, max=4.0\n",
      "for KBA05_SEG6, min=-1.0, max=1.0\n",
      "for KBA05_SEG7, min=-1.0, max=3.0\n",
      "for KBA05_SEG8, min=-1.0, max=3.0\n",
      "for KBA05_SEG9, min=-1.0, max=3.0\n",
      "for KBA05_VORB0, min=-1.0, max=5.0\n",
      "for KBA05_VORB1, min=-1.0, max=5.0\n",
      "for KBA05_VORB2, min=-1.0, max=5.0\n",
      "for KBA05_ZUL1, min=-1.0, max=5.0\n",
      "for KBA05_ZUL2, min=-1.0, max=5.0\n",
      "for KBA05_ZUL3, min=-1.0, max=5.0\n",
      "for KBA05_ZUL4, min=-1.0, max=5.0\n",
      "for KBA13_ALTERHALTER_30, min=-1.0, max=5.0\n",
      "for KBA13_ALTERHALTER_45, min=-1.0, max=5.0\n",
      "for KBA13_ALTERHALTER_60, min=-1.0, max=5.0\n",
      "for KBA13_ALTERHALTER_61, min=-1.0, max=5.0\n",
      "for KBA13_ANTG1, min=-1.0, max=4.0\n",
      "for KBA13_ANTG2, min=-1.0, max=4.0\n",
      "for KBA13_ANTG3, min=-1.0, max=3.0\n",
      "for KBA13_ANTG4, min=-1.0, max=2.0\n",
      "for KBA13_ANZAHL_PKW, min=-1.0, max=2300.0\n",
      "for KBA13_AUDI, min=-1.0, max=5.0\n",
      "for KBA13_AUTOQUOTE, min=-1.0, max=5.0\n",
      "for KBA13_BAUMAX, min=-1.0, max=5.0\n",
      "for KBA13_BJ_1999, min=-1.0, max=5.0\n",
      "for KBA13_BJ_2000, min=-1.0, max=5.0\n",
      "for KBA13_BJ_2004, min=-1.0, max=5.0\n",
      "for KBA13_BJ_2006, min=-1.0, max=5.0\n",
      "for KBA13_BJ_2008, min=-1.0, max=5.0\n",
      "for KBA13_BJ_2009, min=-1.0, max=5.0\n",
      "for KBA13_BMW, min=-1.0, max=5.0\n",
      "for KBA13_CCM_0_1400, min=-1.0, max=5.0\n",
      "for KBA13_CCM_1000, min=-1.0, max=5.0\n",
      "for KBA13_CCM_1200, min=-1.0, max=5.0\n",
      "for KBA13_CCM_1400, min=-1.0, max=5.0\n",
      "for KBA13_CCM_1401_2500, min=-1.0, max=5.0\n",
      "for KBA13_CCM_1500, min=-1.0, max=5.0\n",
      "for KBA13_CCM_1600, min=-1.0, max=5.0\n",
      "for KBA13_CCM_1800, min=-1.0, max=5.0\n",
      "for KBA13_CCM_2000, min=-1.0, max=5.0\n",
      "for KBA13_CCM_2500, min=-1.0, max=5.0\n",
      "for KBA13_CCM_2501, min=-1.0, max=5.0\n",
      "for KBA13_CCM_3000, min=-1.0, max=5.0\n",
      "for KBA13_CCM_3001, min=-1.0, max=5.0\n",
      "for KBA13_FAB_ASIEN, min=-1.0, max=5.0\n",
      "for KBA13_FAB_SONSTIGE, min=-1.0, max=5.0\n",
      "for KBA13_FIAT, min=-1.0, max=5.0\n",
      "for KBA13_FORD, min=-1.0, max=5.0\n",
      "for KBA13_GBZ, min=-1.0, max=5.0\n",
      "for KBA13_HALTER_20, min=-1.0, max=5.0\n",
      "for KBA13_HALTER_25, min=-1.0, max=5.0\n",
      "for KBA13_HALTER_30, min=-1.0, max=5.0\n",
      "for KBA13_HALTER_35, min=-1.0, max=5.0\n",
      "for KBA13_HALTER_40, min=-1.0, max=5.0\n",
      "for KBA13_HALTER_45, min=-1.0, max=5.0\n",
      "for KBA13_HALTER_50, min=-1.0, max=5.0\n",
      "for KBA13_HALTER_55, min=-1.0, max=5.0\n",
      "for KBA13_HALTER_60, min=-1.0, max=5.0\n",
      "for KBA13_HALTER_65, min=-1.0, max=5.0\n",
      "for KBA13_HALTER_66, min=-1.0, max=5.0\n",
      "for KBA13_HERST_ASIEN, min=-1.0, max=5.0\n",
      "for KBA13_HERST_AUDI_VW, min=-1.0, max=5.0\n",
      "for KBA13_HERST_BMW_BENZ, min=-1.0, max=5.0\n",
      "for KBA13_HERST_EUROPA, min=-1.0, max=5.0\n",
      "for KBA13_HERST_FORD_OPEL, min=-1.0, max=5.0\n",
      "for KBA13_HERST_SONST, min=-1.0, max=5.0\n",
      "for KBA13_HHZ, min=-1.0, max=5.0\n",
      "for KBA13_KMH_0_140, min=-1.0, max=5.0\n",
      "for KBA13_KMH_110, min=-1.0, max=3.0\n",
      "for KBA13_KMH_140, min=-1.0, max=5.0\n",
      "for KBA13_KMH_140_210, min=-1.0, max=5.0\n",
      "for KBA13_KMH_180, min=-1.0, max=5.0\n",
      "for KBA13_KMH_210, min=-1.0, max=5.0\n",
      "for KBA13_KMH_211, min=-1.0, max=5.0\n",
      "for KBA13_KMH_250, min=-1.0, max=5.0\n",
      "for KBA13_KMH_251, min=-1.0, max=3.0\n",
      "for KBA13_KRSAQUOT, min=-1.0, max=5.0\n",
      "for KBA13_KRSHERST_AUDI_VW, min=-1.0, max=5.0\n",
      "for KBA13_KRSHERST_BMW_BENZ, min=-1.0, max=5.0\n",
      "for KBA13_KRSHERST_FORD_OPEL, min=-1.0, max=5.0\n",
      "for KBA13_KRSSEG_KLEIN, min=-1.0, max=3.0\n",
      "for KBA13_KRSSEG_OBER, min=-1.0, max=3.0\n",
      "for KBA13_KRSSEG_VAN, min=-1.0, max=3.0\n",
      "for KBA13_KRSZUL_NEU, min=-1.0, max=3.0\n",
      "for KBA13_KW_0_60, min=-1.0, max=5.0\n",
      "for KBA13_KW_110, min=-1.0, max=5.0\n",
      "for KBA13_KW_120, min=-1.0, max=5.0\n",
      "for KBA13_KW_121, min=-1.0, max=5.0\n",
      "for KBA13_KW_30, min=-1.0, max=3.0\n",
      "for KBA13_KW_40, min=-1.0, max=5.0\n",
      "for KBA13_KW_50, min=-1.0, max=5.0\n",
      "for KBA13_KW_60, min=-1.0, max=5.0\n",
      "for KBA13_KW_61_120, min=-1.0, max=5.0\n",
      "for KBA13_KW_70, min=-1.0, max=5.0\n",
      "for KBA13_KW_80, min=-1.0, max=5.0\n",
      "for KBA13_KW_90, min=-1.0, max=5.0\n",
      "for KBA13_MAZDA, min=-1.0, max=5.0\n",
      "for KBA13_MERCEDES, min=-1.0, max=5.0\n",
      "for KBA13_MOTOR, min=-1.0, max=4.0\n",
      "for KBA13_NISSAN, min=-1.0, max=5.0\n",
      "for KBA13_OPEL, min=-1.0, max=5.0\n",
      "for KBA13_PEUGEOT, min=-1.0, max=5.0\n",
      "for KBA13_RENAULT, min=-1.0, max=5.0\n",
      "for KBA13_SEG_GELAENDEWAGEN, min=-1.0, max=5.0\n",
      "for KBA13_SEG_GROSSRAUMVANS, min=-1.0, max=5.0\n",
      "for KBA13_SEG_KLEINST, min=-1.0, max=5.0\n",
      "for KBA13_SEG_KLEINWAGEN, min=-1.0, max=5.0\n",
      "for KBA13_SEG_KOMPAKTKLASSE, min=-1.0, max=5.0\n",
      "for KBA13_SEG_MINIVANS, min=-1.0, max=5.0\n",
      "for KBA13_SEG_MINIWAGEN, min=-1.0, max=5.0\n",
      "for KBA13_SEG_MITTELKLASSE, min=-1.0, max=5.0\n",
      "for KBA13_SEG_OBEREMITTELKLASSE, min=-1.0, max=5.0\n",
      "for KBA13_SEG_OBERKLASSE, min=-1.0, max=5.0\n",
      "for KBA13_SEG_SONSTIGE, min=-1.0, max=5.0\n",
      "for KBA13_SEG_SPORTWAGEN, min=-1.0, max=5.0\n",
      "for KBA13_SEG_UTILITIES, min=-1.0, max=5.0\n",
      "for KBA13_SEG_VAN, min=-1.0, max=5.0\n",
      "for KBA13_SEG_WOHNMOBILE, min=-1.0, max=5.0\n",
      "for KBA13_SITZE_4, min=-1.0, max=5.0\n",
      "for KBA13_SITZE_5, min=-1.0, max=5.0\n",
      "for KBA13_SITZE_6, min=-1.0, max=5.0\n",
      "for KBA13_TOYOTA, min=-1.0, max=5.0\n",
      "for KBA13_VORB_0, min=-1.0, max=5.0\n",
      "for KBA13_VORB_1, min=-1.0, max=5.0\n",
      "for KBA13_VORB_1_2, min=-1.0, max=5.0\n",
      "for KBA13_VORB_2, min=-1.0, max=5.0\n",
      "for KBA13_VORB_3, min=-1.0, max=5.0\n",
      "for KBA13_VW, min=-1.0, max=5.0\n",
      "for KK_KUNDENTYP, min=-1.0, max=6.0\n",
      "for KKK, min=-1.0, max=4.0\n",
      "for KOMBIALTER, min=1, max=9\n",
      "for KONSUMNAEHE, min=1.0, max=7.0\n",
      "for KONSUMZELLE, min=0.0, max=1.0\n",
      "for LP_FAMILIE_FEIN, min=0.0, max=11.0\n",
      "for LP_FAMILIE_GROB, min=0.0, max=5.0\n",
      "for LP_LEBENSPHASE_FEIN, min=0.0, max=40.0\n",
      "for LP_LEBENSPHASE_GROB, min=0.0, max=12.0\n",
      "for LP_STATUS_FEIN, min=1.0, max=10.0\n",
      "for LP_STATUS_GROB, min=1.0, max=5.0\n",
      "for MIN_GEBAEUDEJAHR, min=1.0, max=2016.0\n",
      "for MOBI_RASTER, min=1.0, max=6.0\n",
      "for MOBI_REGIO, min=1.0, max=6.0\n",
      "for NATIONALITAET_KZ, min=-1, max=3\n",
      "for ONLINE_AFFINITAET, min=0.0, max=5.0\n",
      "for ORTSGR_KLS9, min=-1.0, max=9.0\n",
      "OST_WEST_KZ is of mixed type\n",
      "for PLZ8_ANTG1, min=-1.0, max=4.0\n",
      "for PLZ8_ANTG2, min=-1.0, max=4.0\n",
      "for PLZ8_ANTG3, min=-1.0, max=3.0\n",
      "for PLZ8_ANTG4, min=-1.0, max=2.0\n",
      "for PLZ8_BAUMAX, min=1.0, max=5.0\n",
      "for PLZ8_GBZ, min=-1.0, max=5.0\n",
      "for PLZ8_HHZ, min=-1.0, max=5.0\n",
      "for PRAEGENDE_JUGENDJAHRE, min=-1, max=15\n",
      "for REGIOTYP, min=-1.0, max=7.0\n",
      "for RELAT_AB, min=-1.0, max=5.0\n",
      "for RETOURTYP_BK_S, min=1.0, max=5.0\n",
      "for RT_KEIN_ANREIZ, min=1.0, max=5.0\n",
      "for RT_SCHNAEPPCHEN, min=1.0, max=5.0\n",
      "for RT_UEBERGROESSE, min=0.0, max=5.0\n",
      "for SEMIO_DOM, min=1, max=7\n",
      "for SEMIO_ERL, min=1, max=7\n",
      "for SEMIO_FAM, min=1, max=7\n",
      "for SEMIO_KAEM, min=1, max=7\n",
      "for SEMIO_KRIT, min=1, max=7\n",
      "for SEMIO_KULT, min=1, max=7\n",
      "for SEMIO_LUST, min=1, max=7\n",
      "for SEMIO_MAT, min=1, max=7\n",
      "for SEMIO_PFLICHT, min=1, max=7\n",
      "for SEMIO_RAT, min=1, max=7\n",
      "for SEMIO_REL, min=1, max=7\n",
      "for SEMIO_SOZ, min=1, max=7\n",
      "for SEMIO_TRADV, min=1, max=7\n",
      "for SEMIO_VERT, min=1, max=7\n",
      "for SHOPPER_TYP, min=-1, max=3\n",
      "for SOHO_KZ, min=0.0, max=1.0\n",
      "for STRUKTURTYP, min=1.0, max=3.0\n",
      "for TITEL_KZ, min=-1.0, max=5.0\n",
      "for UMFELD_ALT, min=1.0, max=5.0\n",
      "for UMFELD_JUNG, min=1.0, max=5.0\n",
      "for UNGLEICHENN_FLAG, min=0.0, max=1.0\n",
      "for VERDICHTUNGSRAUM, min=0.0, max=45.0\n",
      "for VERS_TYP, min=-1, max=2\n",
      "for VHA, min=0.0, max=5.0\n",
      "for VHN, min=0.0, max=4.0\n",
      "for VK_DHT4A, min=1.0, max=11.0\n",
      "for VK_DISTANZ, min=1.0, max=13.0\n",
      "for VK_ZG11, min=1.0, max=11.0\n",
      "for W_KEIT_KIND_HH, min=-1.0, max=6.0\n",
      "for WOHNDAUER_2008, min=1.0, max=9.0\n",
      "for WOHNLAGE, min=0.0, max=8.0\n",
      "for ZABEOTYP, min=1, max=6\n",
      "for ANREDE_KZ, min=1, max=2\n",
      "for ALTERSKATEGORIE_GROB, min=1, max=9\n",
      "for youngest_child, min=0.0, max=18.0\n",
      "for youngest_child_bin, min=0.0, max=4.0\n"
     ]
    }
   ],
   "source": [
    "## Want to make sure that categorical features don't have values that are outside of those specified in the data dictionary\n",
    "# note GEBURTSJAHR has many 0s in - not helpful\n",
    "\n",
    "for col in cleaned_azdias.columns:\n",
    "    try:\n",
    "        print(f'for {col}, min={min(cleaned_azdias[col])}, max={max(cleaned_azdias[col])}')\n",
    "    except:\n",
    "        print(f'{col} is of mixed type')\n",
    "\n",
    "## Notes:\n",
    "# ANZ_HAUSHALTE_AKTIV goes up to 595.0 which is high but may represent a large block of flats\n",
    "# GEBURTSJAHR min = 0, very unhelpful.\n",
    "# KBA13_ANZAHL_PKW max=2300.0, cannot find in data dictionary, no idea if reasonable or not"
   ]
  },
  {
   "cell_type": "markdown",
   "id": "ca3bb871-1991-416c-9f24-01d09db6a235",
   "metadata": {
    "tags": []
   },
   "source": [
    "### Demographics data for customers of a mail-order company\n",
    "191 652 persons (rows) x 369 features (columns) <br>\n",
    "Should be similar to previous dataset"
   ]
  },
  {
   "cell_type": "code",
   "execution_count": 6,
   "id": "324bb658-aaf3-4658-a51f-0fbc8d0c95d9",
   "metadata": {},
   "outputs": [
    {
     "name": "stderr",
     "output_type": "stream",
     "text": [
      "/opt/conda/lib/python3.6/site-packages/IPython/core/interactiveshell.py:2785: DtypeWarning: Columns (18,19) have mixed types. Specify dtype option on import or set low_memory=False.\n",
      "  interactivity=interactivity, compiler=compiler, result=result)\n"
     ]
    }
   ],
   "source": [
    "# load in the data\n",
    "customers = pd.read_csv('../../data/Term2/capstone/arvato_data/Udacity_CUSTOMERS_052018.csv', sep=';')"
   ]
  },
  {
   "cell_type": "markdown",
   "id": "d7bd7123-8f93-4993-a3c3-7739ebff0fc9",
   "metadata": {},
   "source": [
    "#### Cleaning"
   ]
  },
  {
   "cell_type": "code",
   "execution_count": 7,
   "id": "6dab9af2-be3b-4990-abfd-8b20f575d6c6",
   "metadata": {},
   "outputs": [
    {
     "name": "stdout",
     "output_type": "stream",
     "text": [
      "['ALTER_KIND1', 'ALTER_KIND2', 'ALTER_KIND3', 'ALTER_KIND4'] updated\n",
      "NaNs pushed to unknown where possible\n",
      "column EXTSEL992 dropped due to >50% nulls\n",
      "0 majority-null rows dropped\n",
      "1 columns had nulls imputed with mode\n",
      "cannot correct GEOSCORE_KLS7:\n",
      "    <class 'KeyError'>\n",
      "    ('GEOSCORE_KLS7',)\n",
      "    'GEOSCORE_KLS7'\n",
      "cannot correct HAUSHALTSSTRUKTUR:\n",
      "    <class 'KeyError'>\n",
      "    ('HAUSHALTSSTRUKTUR',)\n",
      "    'HAUSHALTSSTRUKTUR'\n",
      "cannot correct WACHSTUMSGEBIET_NB:\n",
      "    <class 'KeyError'>\n",
      "    ('WACHSTUMSGEBIET_NB',)\n",
      "    'WACHSTUMSGEBIET_NB'\n",
      "Unknowns forced to single category\n",
      "Mixed data types fixed\n",
      "Columns converted to categorical\n",
      "finished\n",
      "size of dataset: (191652, 366)\n"
     ]
    }
   ],
   "source": [
    "cleaned_customers = clean_arvato_data(customers)"
   ]
  },
  {
   "cell_type": "markdown",
   "id": "d9f3d168-1031-48a5-98d1-b0683fa68fe5",
   "metadata": {
    "tags": []
   },
   "source": [
    "### Cleaned Data"
   ]
  },
  {
   "cell_type": "code",
   "execution_count": 2,
   "id": "d63e0728-e0f9-4c8d-a6fb-f56cf1e39e1a",
   "metadata": {},
   "outputs": [],
   "source": [
    "# ## Writing the prepared data to a csv for speed:\n",
    "# cleaned_azdias.to_csv('azdias_cleaned.csv', sep=';')\n",
    "# cleaned_customers.to_csv('customers_cleaned.csv', sep=';')"
   ]
  },
  {
   "cell_type": "code",
   "execution_count": null,
   "id": "e67015e2-d6a9-4d04-8c0b-771c0c9f3f40",
   "metadata": {
    "tags": []
   },
   "outputs": [],
   "source": [
    "## load cleaned data in\n",
    "azdias_cleaned = pd.read_csv('azdias_cleaned.csv', sep=';')\n",
    "# customers_cleaned = pd.read_csv('customers_cleaned.csv', sep=';')"
   ]
  },
  {
   "cell_type": "code",
   "execution_count": null,
   "id": "3d927da2-cec3-420b-8bad-df38b7ccda2a",
   "metadata": {},
   "outputs": [],
   "source": [
    "# azdias_cleaned.head(5)\n",
    "azdias_cleaned['CAMEO_DEU_2015'].unique()"
   ]
  },
  {
   "cell_type": "markdown",
   "id": "0f70c05a-f5d5-4ad7-b721-2b0343c3c439",
   "metadata": {},
   "source": [
    "Note that the field CAMEO_DEU_2015, though it should only contain "
   ]
  },
  {
   "cell_type": "markdown",
   "id": "f7af0f5a-b9cc-4dd4-8718-1afef1439592",
   "metadata": {
    "tags": []
   },
   "source": [
    "### Sample Cleaned Data"
   ]
  },
  {
   "cell_type": "code",
   "execution_count": 7,
   "id": "2fb7d67d-49f9-42ca-835a-204eb2685a9e",
   "metadata": {
    "tags": []
   },
   "outputs": [],
   "source": [
    "def tidy_data(df):   \n",
    "    ## Misc columns and indexing (unless previously done):\n",
    "    \n",
    "    # EINGEFUEGT_AM - some sort of timestamp, not needed\n",
    "    df.drop(labels=['EINGEFUEGT_AM'], axis=1, inplace=True)\n",
    "    \n",
    "    ## Date house appeared in database - not useful\n",
    "    df.drop(labels=['MIN_GEBAEUDEJAHR'], axis=1, inplace=True)\n",
    "\n",
    "    # UNAMED - a reset index from writing - can be dropped\n",
    "    df.drop(labels=['Unnamed: 0'], axis=1, inplace=True)\n",
    "\n",
    "    # Also set the index to LNR (the id)\n",
    "    df.set_index('LNR', inplace=True)\n",
    "    \n",
    "    return df"
   ]
  },
  {
   "cell_type": "markdown",
   "id": "67dd9dda-70d1-44e8-8f3f-ead6edcc88ab",
   "metadata": {
    "tags": []
   },
   "source": [
    "#### General population"
   ]
  },
  {
   "cell_type": "code",
   "execution_count": 8,
   "id": "fa8df2df-d137-4c0f-bd8f-145f3cc2cddf",
   "metadata": {},
   "outputs": [],
   "source": [
    "fraction=0.1 #0.3\n",
    "sample_azdias = tidy_data(azdias_cleaned.sample(frac=fraction, replace=False, random_state=1))"
   ]
  },
  {
   "cell_type": "code",
   "execution_count": 9,
   "id": "3f99b73e-86ba-4c6b-82c9-8f8f6b90c61b",
   "metadata": {},
   "outputs": [],
   "source": [
    "## Writing the prepared data to a csv for speed:\n",
    "sample_azdias.to_csv(f'sample_azdias_{fraction}.csv', sep=';')"
   ]
  },
  {
   "cell_type": "code",
   "execution_count": 10,
   "id": "ddac5de7-0b19-425d-b189-88b7801bd19a",
   "metadata": {},
   "outputs": [],
   "source": [
    "del azdias_cleaned"
   ]
  },
  {
   "cell_type": "markdown",
   "id": "1c72047d-222d-42dc-80eb-2e21b0d20214",
   "metadata": {
    "tags": []
   },
   "source": [
    "#### Customers"
   ]
  },
  {
   "cell_type": "code",
   "execution_count": null,
   "id": "40bbfd8e-67ac-4257-bbab-2ed935974ad6",
   "metadata": {},
   "outputs": [],
   "source": [
    "fraction=0.3"
   ]
  },
  {
   "cell_type": "code",
   "execution_count": 52,
   "id": "d87cc706-84dd-446e-a053-45bf876f70cf",
   "metadata": {},
   "outputs": [],
   "source": [
    "# For un-supervised do not need the mail order company data\n",
    "sample_customers = customers_cleaned.drop(labels=['PRODUCT_GROUP', 'CUSTOMER_GROUP', 'ONLINE_PURCHASE'], axis=1)\n",
    "sample_customers = tidy_data(sample_customers.sample(frac=fraction, replace=False, random_state=1))"
   ]
  },
  {
   "cell_type": "code",
   "execution_count": 53,
   "id": "3bf30ffa-a93a-4156-b1b8-4505f7622d35",
   "metadata": {},
   "outputs": [],
   "source": [
    "## Writing the prepared data to a csv for speed:\n",
    "sample_customers.to_csv(f'sample_customers{fraction}.csv', sep=';')"
   ]
  },
  {
   "cell_type": "code",
   "execution_count": 54,
   "id": "f5b65790-293c-47bd-a754-f22df4463dea",
   "metadata": {},
   "outputs": [],
   "source": [
    "del customers_cleaned"
   ]
  },
  {
   "cell_type": "markdown",
   "id": "8fd230bf-124e-406f-8771-6dbdbcafa45e",
   "metadata": {},
   "source": [
    "Cleaning all done on Udacity Servers"
   ]
  },
  {
   "cell_type": "markdown",
   "id": "67363c24-464f-40ba-a4d9-ee8ebe2b2856",
   "metadata": {
    "tags": []
   },
   "source": [
    "## Read in cleaned, sampled data"
   ]
  },
  {
   "cell_type": "code",
   "execution_count": 3,
   "id": "9fa95610-6a17-411c-878c-9b04f3b58b3f",
   "metadata": {},
   "outputs": [],
   "source": [
    "## load cleaned sample of general population in\n",
    "fraction=0.1 #0.3\n",
    "sample_azdias = pd.read_csv(f'sample_azdias_{fraction}.csv', sep=';')\n",
    "# sample_azdias.set_index('LNR', inplace=True)"
   ]
  },
  {
   "cell_type": "code",
   "execution_count": 4,
   "id": "e7dfef50-cd48-400c-a266-004f3b54f448",
   "metadata": {},
   "outputs": [],
   "source": [
    "## load cleaned sample of customers in - note this does not have customer-specific features (products etc)\n",
    "fraction=0.3\n",
    "sample_customers = pd.read_csv(f'sample_customers{fraction}.csv', sep=';')\n",
    "# sample_customers.set_index('LNR', inplace=True)"
   ]
  },
  {
   "cell_type": "markdown",
   "id": "dd33f624-f642-4826-af5b-1384055aed27",
   "metadata": {
    "tags": []
   },
   "source": [
    "## Part 1: Customer Segmentation Report\n",
    "\n",
    "The main bulk of your analysis will come in this part of the project. Here, you should use unsupervised learning techniques to describe the relationship between the demographics of the company's existing customers and the general population of Germany. By the end of this part, you should be able to describe parts of the general population that are more likely to be part of the mail-order company's main customer base, and which parts of the general population are less so."
   ]
  },
  {
   "cell_type": "markdown",
   "id": "6aa0c672-86f7-469c-a50c-ea1ae56dc0d2",
   "metadata": {
    "tags": []
   },
   "source": [
    "### FAMD"
   ]
  },
  {
   "cell_type": "markdown",
   "id": "c4920f2e-dfbf-433f-8d9a-f87bc863dd30",
   "metadata": {},
   "source": [
    "Note that PCA is best for linear relations and continuous rather than categorical variables, so FAMD trialled <br>\n",
    "see https://pypi.org/project/light-famd/ and https://towardsdatascience.com/famd-how-to-generalize-pca-to-categorical-and-numerical-data-2ddbeb2b9210"
   ]
  },
  {
   "cell_type": "code",
   "execution_count": 89,
   "id": "9e982ccf-0ca5-4d07-9831-50a05ee345c1",
   "metadata": {
    "tags": []
   },
   "outputs": [],
   "source": [
    "from prince import FAMD"
   ]
  },
  {
   "cell_type": "markdown",
   "id": "ba31e9bd-0b8f-4a6c-8517-a4bab11ced78",
   "metadata": {
    "tags": []
   },
   "source": [
    "#### Prepare Sample"
   ]
  },
  {
   "cell_type": "code",
   "execution_count": 272,
   "id": "261748a1-62d9-4593-a5c0-36c7287f89d3",
   "metadata": {
    "tags": []
   },
   "outputs": [],
   "source": [
    "continuous_vars = ['GEBURTSJAHR', 'KBA13_ANZAHL_PKW', 'ANZ_HAUSHALTE_AKTIV', 'ANZ_HH_TITEL',\n",
    "              'ANZ_PERSONEN', 'ANZ_TITEL', 'ANZ_STATISTISCHE_HAUSHALTE', 'EINGEZOGENAM_HH_JAHR']#, 'MIN_GEBAEUDEJAHR'"
   ]
  },
  {
   "cell_type": "code",
   "execution_count": 237,
   "id": "0b974f0a-983a-48c4-874b-a8ab3bfeb7e3",
   "metadata": {
    "tags": []
   },
   "outputs": [
    {
     "name": "stdout",
     "output_type": "stream",
     "text": [
      "180 car columns to remove\n"
     ]
    }
   ],
   "source": [
    "to_drop = []\n",
    "for col in sample_azdias.columns:\n",
    "    if ('KBA05' in col) | ('KBA13' in col):\n",
    "        to_drop.append(col)\n",
    "to_drop.remove('KBA13_ANZAHL_PKW')\n",
    "print(f'{len(to_drop)} car columns to remove')"
   ]
  },
  {
   "cell_type": "code",
   "execution_count": 242,
   "id": "d3c4ae37-1b93-492e-bac2-915ca0ef2b60",
   "metadata": {
    "tags": []
   },
   "outputs": [
    {
     "name": "stdout",
     "output_type": "stream",
     "text": [
      "Data type of column CAMEO_DEU_2015 is object\n",
      "Data type of column D19_LETZTER_KAUF_BRANCHE is object\n",
      "Data type of column OST_WEST_KZ is object\n",
      "shape of prepared data = 44561 rows, 180 columns\n"
     ]
    }
   ],
   "source": [
    "gen_pop = prepare_famd(sample_azdias, continuous_vars, to_drop, reduce_columns=True, subsample=0.5)"
   ]
  },
  {
   "cell_type": "code",
   "execution_count": 243,
   "id": "d75364f2-7980-4fe7-a184-d46b2a285aa7",
   "metadata": {
    "tags": []
   },
   "outputs": [
    {
     "data": {
      "text/html": [
       "<div>\n",
       "<style scoped>\n",
       "    .dataframe tbody tr th:only-of-type {\n",
       "        vertical-align: middle;\n",
       "    }\n",
       "\n",
       "    .dataframe tbody tr th {\n",
       "        vertical-align: top;\n",
       "    }\n",
       "\n",
       "    .dataframe thead th {\n",
       "        text-align: right;\n",
       "    }\n",
       "</style>\n",
       "<table border=\"1\" class=\"dataframe\">\n",
       "  <thead>\n",
       "    <tr style=\"text-align: right;\">\n",
       "      <th></th>\n",
       "      <th></th>\n",
       "    </tr>\n",
       "    <tr>\n",
       "      <th>column_types</th>\n",
       "      <th>data_types</th>\n",
       "    </tr>\n",
       "  </thead>\n",
       "  <tbody>\n",
       "    <tr>\n",
       "      <th>category</th>\n",
       "      <th>&lt;class 'str'&gt;</th>\n",
       "    </tr>\n",
       "    <tr>\n",
       "      <th>float64</th>\n",
       "      <th>&lt;class 'numpy.float64'&gt;</th>\n",
       "    </tr>\n",
       "    <tr>\n",
       "      <th>int64</th>\n",
       "      <th>&lt;class 'numpy.int64'&gt;</th>\n",
       "    </tr>\n",
       "  </tbody>\n",
       "</table>\n",
       "</div>"
      ],
      "text/plain": [
       "Empty DataFrame\n",
       "Columns: []\n",
       "Index: [(category, <class 'str'>), (float64, <class 'numpy.float64'>), (int64, <class 'numpy.int64'>)]"
      ]
     },
     "execution_count": 243,
     "metadata": {},
     "output_type": "execute_result"
    }
   ],
   "source": [
    "datatypes_summary(gen_pop)"
   ]
  },
  {
   "cell_type": "markdown",
   "id": "f4dadeb6-46fb-4e95-87e2-5fdc5cc295fd",
   "metadata": {
    "tags": []
   },
   "source": [
    "#### Fit FAMD on general population data"
   ]
  },
  {
   "cell_type": "code",
   "execution_count": 64,
   "id": "e1f51ce5-f097-4856-a3dc-85f4eff5ffd0",
   "metadata": {
    "tags": []
   },
   "outputs": [
    {
     "ename": "ValueError",
     "evalue": "Not all columns in \"Categorical\" group are of the same type",
     "output_type": "error",
     "traceback": [
      "\u001b[1;31m---------------------------------------------------------------------------\u001b[0m",
      "\u001b[1;31mValueError\u001b[0m                                Traceback (most recent call last)",
      "\u001b[1;32m~\\AppData\\Local\\Temp/ipykernel_15292/1447800175.py\u001b[0m in \u001b[0;36m<module>\u001b[1;34m\u001b[0m\n\u001b[0;32m      1\u001b[0m \u001b[0mfamd\u001b[0m \u001b[1;33m=\u001b[0m \u001b[0mFAMD\u001b[0m\u001b[1;33m(\u001b[0m\u001b[0mn_components\u001b[0m\u001b[1;33m=\u001b[0m\u001b[1;36m2\u001b[0m\u001b[1;33m,\u001b[0m\u001b[0mn_iter\u001b[0m\u001b[1;33m=\u001b[0m\u001b[1;36m3\u001b[0m\u001b[1;33m,\u001b[0m\u001b[0mcopy\u001b[0m\u001b[1;33m=\u001b[0m\u001b[1;32mTrue\u001b[0m\u001b[1;33m,\u001b[0m\u001b[0mcheck_input\u001b[0m\u001b[1;33m=\u001b[0m\u001b[1;32mTrue\u001b[0m\u001b[1;33m,\u001b[0m\u001b[0mengine\u001b[0m\u001b[1;33m=\u001b[0m\u001b[1;34m'auto'\u001b[0m\u001b[1;33m,\u001b[0m\u001b[0mrandom_state\u001b[0m\u001b[1;33m=\u001b[0m\u001b[1;36m42\u001b[0m\u001b[1;33m)\u001b[0m\u001b[1;33m\u001b[0m\u001b[1;33m\u001b[0m\u001b[0m\n\u001b[1;32m----> 2\u001b[1;33m \u001b[0mazdias_famd\u001b[0m \u001b[1;33m=\u001b[0m \u001b[0mfamd\u001b[0m\u001b[1;33m.\u001b[0m\u001b[0mfit\u001b[0m\u001b[1;33m(\u001b[0m\u001b[0mgen_pop\u001b[0m\u001b[1;33m)\u001b[0m\u001b[1;33m\u001b[0m\u001b[1;33m\u001b[0m\u001b[0m\n\u001b[0m",
      "\u001b[1;32mc:\\dev\\.conda\\envs\\ds-nanodegree\\lib\\site-packages\\prince\\famd.py\u001b[0m in \u001b[0;36mfit\u001b[1;34m(self, X, y)\u001b[0m\n\u001b[0;32m     43\u001b[0m                              'you only have numerical data; you should consider using PCA')\n\u001b[0;32m     44\u001b[0m \u001b[1;33m\u001b[0m\u001b[0m\n\u001b[1;32m---> 45\u001b[1;33m         \u001b[1;32mreturn\u001b[0m \u001b[0msuper\u001b[0m\u001b[1;33m(\u001b[0m\u001b[1;33m)\u001b[0m\u001b[1;33m.\u001b[0m\u001b[0mfit\u001b[0m\u001b[1;33m(\u001b[0m\u001b[0mX\u001b[0m\u001b[1;33m)\u001b[0m\u001b[1;33m\u001b[0m\u001b[1;33m\u001b[0m\u001b[0m\n\u001b[0m",
      "\u001b[1;32mc:\\dev\\.conda\\envs\\ds-nanodegree\\lib\\site-packages\\prince\\mfa.py\u001b[0m in \u001b[0;36mfit\u001b[1;34m(self, X, y)\u001b[0m\n\u001b[0;32m     49\u001b[0m             \u001b[0mall_cat\u001b[0m \u001b[1;33m=\u001b[0m \u001b[0mall\u001b[0m\u001b[1;33m(\u001b[0m\u001b[0mpd\u001b[0m\u001b[1;33m.\u001b[0m\u001b[0mapi\u001b[0m\u001b[1;33m.\u001b[0m\u001b[0mtypes\u001b[0m\u001b[1;33m.\u001b[0m\u001b[0mis_string_dtype\u001b[0m\u001b[1;33m(\u001b[0m\u001b[0mX\u001b[0m\u001b[1;33m[\u001b[0m\u001b[0mc\u001b[0m\u001b[1;33m]\u001b[0m\u001b[1;33m)\u001b[0m \u001b[1;32mfor\u001b[0m \u001b[0mc\u001b[0m \u001b[1;32min\u001b[0m \u001b[0mcols\u001b[0m\u001b[1;33m)\u001b[0m\u001b[1;33m\u001b[0m\u001b[1;33m\u001b[0m\u001b[0m\n\u001b[0;32m     50\u001b[0m             \u001b[1;32mif\u001b[0m \u001b[1;32mnot\u001b[0m \u001b[1;33m(\u001b[0m\u001b[0mall_num\u001b[0m \u001b[1;32mor\u001b[0m \u001b[0mall_cat\u001b[0m\u001b[1;33m)\u001b[0m\u001b[1;33m:\u001b[0m\u001b[1;33m\u001b[0m\u001b[1;33m\u001b[0m\u001b[0m\n\u001b[1;32m---> 51\u001b[1;33m                 \u001b[1;32mraise\u001b[0m \u001b[0mValueError\u001b[0m\u001b[1;33m(\u001b[0m\u001b[1;34m'Not all columns in \"{}\" group are of the same type'\u001b[0m\u001b[1;33m.\u001b[0m\u001b[0mformat\u001b[0m\u001b[1;33m(\u001b[0m\u001b[0mname\u001b[0m\u001b[1;33m)\u001b[0m\u001b[1;33m)\u001b[0m\u001b[1;33m\u001b[0m\u001b[1;33m\u001b[0m\u001b[0m\n\u001b[0m\u001b[0;32m     52\u001b[0m             \u001b[0mself\u001b[0m\u001b[1;33m.\u001b[0m\u001b[0mall_nums_\u001b[0m\u001b[1;33m[\u001b[0m\u001b[0mname\u001b[0m\u001b[1;33m]\u001b[0m \u001b[1;33m=\u001b[0m \u001b[0mall_num\u001b[0m\u001b[1;33m\u001b[0m\u001b[1;33m\u001b[0m\u001b[0m\n\u001b[0;32m     53\u001b[0m \u001b[1;33m\u001b[0m\u001b[0m\n",
      "\u001b[1;31mValueError\u001b[0m: Not all columns in \"Categorical\" group are of the same type"
     ]
    }
   ],
   "source": [
    "famd = FAMD(n_components=2,n_iter=3,copy=True,check_input=True,engine='auto',random_state=42)\n",
    "azdias_famd = famd.fit(gen_pop)"
   ]
  },
  {
   "cell_type": "markdown",
   "id": "1d61e478-61af-42e7-960a-3fd5ebd584e5",
   "metadata": {},
   "source": [
    "Problem with implementation - https://github.com/MaxHalford/prince/issues/109\n",
    "\n",
    "Might have to do PCA and MCA separately."
   ]
  },
  {
   "cell_type": "markdown",
   "id": "c466a187-6669-4cae-983e-9af49675718e",
   "metadata": {
    "tags": []
   },
   "source": [
    "### MCA + PCA\n",
    "Given problems with the implementation of FAMD in prince meaning it is unable to cope with string-type categorical variables, in order to deal with both categorical and continuous features, a combination of MCA and PCA is used."
   ]
  },
  {
   "cell_type": "code",
   "execution_count": 90,
   "id": "3270777b-015d-438b-beb9-00f37c3206d0",
   "metadata": {},
   "outputs": [],
   "source": [
    "from prince import MCA, PCA"
   ]
  },
  {
   "cell_type": "markdown",
   "id": "78d42bcd-d74d-4461-b340-5b4fe9469214",
   "metadata": {
    "tags": []
   },
   "source": [
    "#### MCA"
   ]
  },
  {
   "cell_type": "markdown",
   "id": "3b9cb4fe-b020-4c81-906b-0fa468b897cc",
   "metadata": {
    "tags": []
   },
   "source": [
    "##### Prepare Sample"
   ]
  },
  {
   "cell_type": "code",
   "execution_count": 275,
   "id": "8b0541af-bbf0-4aa0-bfcf-e450976958b8",
   "metadata": {
    "tags": []
   },
   "outputs": [
    {
     "name": "stdout",
     "output_type": "stream",
     "text": [
      "180 categorical car columns to remove\n"
     ]
    }
   ],
   "source": [
    "to_drop = []\n",
    "for col in sample_azdias.columns:\n",
    "    if ('KBA05' in col) | ('KBA13' in col):\n",
    "        to_drop.append(col)\n",
    "to_drop.remove('KBA13_ANZAHL_PKW')\n",
    "print(f'{len(to_drop)} categorical car columns to remove')"
   ]
  },
  {
   "cell_type": "code",
   "execution_count": 323,
   "id": "628cc9ce-bc0b-485e-9bb0-02e710bce684",
   "metadata": {
    "tags": []
   },
   "outputs": [
    {
     "name": "stdout",
     "output_type": "stream",
     "text": [
      "Categorical data preparation:\n",
      "\n",
      "General population:\n",
      "Data type of column CAMEO_DEU_2015 is object\n",
      "Data type of column D19_LETZTER_KAUF_BRANCHE is object\n",
      "Data type of column OST_WEST_KZ is object\n",
      "shape of MCA prepared data = 44561 rows, 1407 columns\n",
      "\n",
      "Customer population:\n",
      "Data type of column CAMEO_DEU_2015 is object\n",
      "Data type of column D19_LETZTER_KAUF_BRANCHE is object\n",
      "Data type of column OST_WEST_KZ is object\n",
      "shape of MCA prepared data = 28748 rows, 1400 columns\n"
     ]
    }
   ],
   "source": [
    "print('Categorical data preparation:')\n",
    "print('\\r')\n",
    "print('General population:')\n",
    "train_cat = prepare_mca(sample_azdias, to_drop, continuous_vars, reduce_columns=True, subsample=0.5)\n",
    "print('\\r')\n",
    "print('Customer population:')\n",
    "test_cat = prepare_mca(sample_customers, to_drop, continuous_vars, reduce_columns=True, subsample=0.5)"
   ]
  },
  {
   "cell_type": "markdown",
   "id": "d7505b68-c7ee-4a8e-a2f0-1dab44c99c04",
   "metadata": {},
   "source": [
    "Note that due to issue with MCA https://github.com/MaxHalford/prince/issues/107#issuecomment-768144230, missing categories in test set cannot be handled properly and .transform is not possible. Therefore a work-around is used where columns are one-hot-encoded PRIOR to MCA (which should not normally be necessary)"
   ]
  },
  {
   "cell_type": "code",
   "execution_count": 324,
   "id": "10cac8fd-c60d-46f6-a422-0c562db0881e",
   "metadata": {},
   "outputs": [
    {
     "name": "stdout",
     "output_type": "stream",
     "text": [
      "in train but not test:\n",
      "{'D19_TELKO_ANZ_24_6', 'D19_VERSI_ONLINE_QUOTE_12_3.0', 'D19_TELKO_ANZ_12_6', 'D19_BANKEN_ONLINE_QUOTE_12_1.0', 'ANZ_KINDER_6.0', 'ORTSGR_KLS9_0.0', 'D19_BANKEN_LOKAL_1', 'D19_LOTTO_4.0', 'ANZ_KINDER_9.0', 'D19_TELKO_ONLINE_QUOTE_12_5.0', 'GEBAEUDETYP_5.0', 'TITEL_KZ_2.0', 'D19_VERSI_ONLINE_DATUM_2'}\n",
      "in test but not train:\n",
      "{'D19_LOTTO_2.0', 'D19_BANKEN_ONLINE_QUOTE_12_6.0', 'D19_BANKEN_OFFLINE_DATUM_3', 'D19_VERSI_ANZ_12_6', 'TITEL_KZ_3.0', 'ANZ_KINDER_8.0'}\n"
     ]
    }
   ],
   "source": [
    "## Check columns match\n",
    "train_to_drop, test_to_drop = check_cols_match(train_cat, test_cat, 'train', 'test')"
   ]
  },
  {
   "cell_type": "code",
   "execution_count": 325,
   "id": "1866c6ba-ed5b-4b7e-82c3-333ef5f4d7d2",
   "metadata": {
    "tags": []
   },
   "outputs": [],
   "source": [
    "## Create 'dummies' - note this won't work with train for some reason - get divide by 0 error\n",
    "# Therefore drop in test what is not in train (not ideal)\n",
    "test_cat.drop(labels=test_to_drop, axis=1, inplace=True)\n",
    "for col in train_to_drop:\n",
    "    test_cat[col] = 0\n",
    "# test_cat.head()"
   ]
  },
  {
   "cell_type": "code",
   "execution_count": 326,
   "id": "2a6ed657-233f-41d4-8a3d-9ae4b937581b",
   "metadata": {},
   "outputs": [],
   "source": [
    "## Match column order\n",
    "test_cat = test_cat[train_cat.columns.tolist()]"
   ]
  },
  {
   "cell_type": "code",
   "execution_count": 304,
   "id": "4276980c-8c33-4824-ae37-4a3d0ac34a0a",
   "metadata": {},
   "outputs": [],
   "source": [
    "# ## Check categories match\n",
    "# train_to_drop, test_to_drop = check_cats_match(train_cat, test_cat, 'train', 'test')\n",
    "\n",
    "# ## Note that if I remove in train things that are not in test I get errors with MCA fit - possibly results in a feature of only 0s?\n",
    "# # Cannot deal with errors with MCA transform with test without carrying out OHE separately\n",
    "# # Could try to find examples of these values in larger sample, or take larger set of customers and hope?\n",
    "\n",
    "# ## Drop non matching and check number of rows - can always pull in larger sample\n",
    "# # for col in train_to_drop:\n",
    "# #     train_cat = train_cat[train_cat[col].isin(train_to_drop[col]) == False]\n",
    "# # print(train_cat.shape)\n",
    "# for col in test_to_drop:\n",
    "#     test_cat = test_cat[test_cat[col].isin(test_to_drop[col]) == False]\n",
    "# print(test_cat.shape)"
   ]
  },
  {
   "cell_type": "code",
   "execution_count": 315,
   "id": "4e6f06d6-f391-46b3-8176-42a044856156",
   "metadata": {
    "tags": []
   },
   "outputs": [],
   "source": [
    "## Check for nulls/inf\n",
    "\n",
    "# test_cat[test_cat.isna().any(axis=1)]\n",
    "# test_cat[test_cat.isin([np.inf, -np.inf]).any(axis=1)]"
   ]
  },
  {
   "cell_type": "markdown",
   "id": "44e32222-8549-4ffd-8e84-1d862a8023f4",
   "metadata": {
    "tags": []
   },
   "source": [
    "##### Fit MCA on categorical general population data"
   ]
  },
  {
   "cell_type": "code",
   "execution_count": 327,
   "id": "f5ec096b-07c3-42fa-ba45-6a327def6e02",
   "metadata": {},
   "outputs": [],
   "source": [
    "mca = MCA(n_components=2,n_iter=3,copy=True,check_input=True,engine='auto',random_state=42)\n",
    "azdias_mca = mca.fit(train_cat)"
   ]
  },
  {
   "cell_type": "code",
   "execution_count": 358,
   "id": "c191b24d-6818-4e1f-9f21-d7ceab5b9db4",
   "metadata": {},
   "outputs": [
    {
     "name": "stdout",
     "output_type": "stream",
     "text": [
      "MCA for categorical data\n",
      "\n"
     ]
    },
    {
     "data": {
      "image/png": "[encoded data removed]",
      "text/plain": [
       "<Figure size 432x288 with 1 Axes>"
      ]
     },
     "metadata": {
      "needs_background": "light"
     },
     "output_type": "display_data"
    },
    {
     "name": "stdout",
     "output_type": "stream",
     "text": [
      "  Driving highly negative PC1 values Driving highly positive PC1 values\n",
      "0           D19_VERSI_ONLINE_DATUM_1                 WOHNDAUER_2008_1.0\n",
      "1                 D19_TELKO_ANZ_12_5                       TITEL_KZ_1.0\n",
      "2     D19_BANKEN_ONLINE_QUOTE_12_9.0                        SOHO_KZ_1.0\n",
      "3     D19_BANKEN_ONLINE_QUOTE_12_2.0                    OST_WEST_KZ_1.0\n",
      "4      D19_TELKO_ONLINE_QUOTE_12_5.0                      EWDICHTE_-1.0\n",
      "\n",
      "  Driving highly negative PC2 values Driving highly positive PC2 values\n",
      "0                    GEBAEUDETYP_5.0      D19_TELKO_ONLINE_QUOTE_12_5.0\n",
      "1                       ALTER_HH_2.0     D19_BANKEN_ONLINE_QUOTE_12_9.0\n",
      "2                       ALTER_HH_3.0                     D19_BIO_OEKO_2\n",
      "3            LP_LEBENSPHASE_FEIN_6.0     D19_BANKEN_ONLINE_QUOTE_12_7.0\n",
      "4              ONLINE_AFFINITAET_0.0     D19_BANKEN_ONLINE_QUOTE_12_8.0\n"
     ]
    }
   ],
   "source": [
    "gen_pop_mca_results = plot_mca(azdias_mca, train_cat)"
   ]
  },
  {
   "cell_type": "markdown",
   "id": "3e93cef7-1a84-463b-a061-a0de9dc296eb",
   "metadata": {},
   "source": [
    "Note that since the data had to be one-hot-encoded BEFORE mca, the explained_inertia_ throws a float division by zero error, which it did not do before. See below for how it ran without the OHE:"
   ]
  },
  {
   "cell_type": "code",
   "execution_count": 296,
   "id": "35157e4b-1525-415a-b3a9-8d6140d788d1",
   "metadata": {
    "tags": []
   },
   "outputs": [
    {
     "name": "stdout",
     "output_type": "stream",
     "text": [
      "MCA for categorical data\n",
      "\n"
     ]
    },
    {
     "data": {
      "image/png": "[encoded data removed]",
      "text/plain": [
       "<Figure size 432x288 with 1 Axes>"
      ]
     },
     "metadata": {
      "needs_background": "light"
     },
     "output_type": "display_data"
    },
    {
     "name": "stdout",
     "output_type": "stream",
     "text": [
      "First two components explain: [0.03720371795640544, 0.02184419941411917], total inertia = 7.180232558139535\n",
      "\n",
      "  Driving highly negative PC1 values Driving highly positive PC1 values\n",
      "0           D19_VERSI_ONLINE_DATUM_1                 WOHNDAUER_2008_1.0\n",
      "1                 D19_TELKO_ANZ_12_5                       TITEL_KZ_1.0\n",
      "2     D19_BANKEN_ONLINE_QUOTE_12_9.0                        SOHO_KZ_1.0\n",
      "3     D19_BANKEN_ONLINE_QUOTE_12_2.0                    OST_WEST_KZ_1.0\n",
      "4      D19_TELKO_ONLINE_QUOTE_12_5.0                      EWDICHTE_-1.0\n",
      "\n",
      "  Driving highly negative PC2 values Driving highly positive PC2 values\n",
      "0                    GEBAEUDETYP_5.0      D19_TELKO_ONLINE_QUOTE_12_5.0\n",
      "1                       ALTER_HH_2.0     D19_BANKEN_ONLINE_QUOTE_12_9.0\n",
      "2                       ALTER_HH_3.0                     D19_BIO_OEKO_2\n",
      "3            LP_LEBENSPHASE_FEIN_6.0     D19_BANKEN_ONLINE_QUOTE_12_7.0\n",
      "4              ONLINE_AFFINITAET_0.0     D19_BANKEN_ONLINE_QUOTE_12_8.0\n"
     ]
    }
   ],
   "source": [
    "plot_mca(azdias_mca, train_cat)"
   ]
  },
  {
   "cell_type": "code",
   "execution_count": 387,
   "id": "c34ceb5a-b6a1-4851-8e20-8283de6e2b55",
   "metadata": {},
   "outputs": [
    {
     "data": {
      "text/plain": [
       "0.008223677560915169"
      ]
     },
     "execution_count": 387,
     "metadata": {},
     "output_type": "execute_result"
    }
   ],
   "source": [
    "(0.03720371795640544 + 0.02184419941411917)/7.180232558139535"
   ]
  },
  {
   "cell_type": "markdown",
   "id": "f6c773cf-765b-4cbe-8421-a247637c4415",
   "metadata": {},
   "source": [
    "Not sure how to interpret inertia explained anyway"
   ]
  },
  {
   "cell_type": "markdown",
   "id": "29d5c96d-8b5b-4f77-bfa0-ffa7980f8907",
   "metadata": {
    "tags": []
   },
   "source": [
    "##### Apply MCA to categorical customer population data"
   ]
  },
  {
   "cell_type": "code",
   "execution_count": 334,
   "id": "85025c20-b9d6-4002-b2d7-6246f82e440e",
   "metadata": {
    "tags": []
   },
   "outputs": [],
   "source": [
    "customer_mca = azdias_mca.transform(test_cat)"
   ]
  },
  {
   "cell_type": "code",
   "execution_count": 359,
   "id": "0fc3bf8c-d1e8-4c5a-9004-cc56f3ad8031",
   "metadata": {},
   "outputs": [
    {
     "name": "stdout",
     "output_type": "stream",
     "text": [
      "MCA for categorical data\n",
      "\n"
     ]
    },
    {
     "data": {
      "image/png": "[encoded data removed]",
      "text/plain": [
       "<Figure size 432x288 with 1 Axes>"
      ]
     },
     "metadata": {
      "needs_background": "light"
     },
     "output_type": "display_data"
    }
   ],
   "source": [
    "customer_mca_results = plot_mca(customer_mca, test_cat, fit=False, analyse_loadings=False)"
   ]
  },
  {
   "cell_type": "markdown",
   "id": "c2335152-9d45-4744-88a4-e1f2a3eb00b6",
   "metadata": {
    "tags": []
   },
   "source": [
    "#### PCA"
   ]
  },
  {
   "cell_type": "markdown",
   "id": "1cc337ba-edd0-41b5-86b1-09ab1a60c9b9",
   "metadata": {
    "tags": []
   },
   "source": [
    "##### Prepare Sample"
   ]
  },
  {
   "cell_type": "code",
   "execution_count": 343,
   "id": "95271489-6d6c-4ee2-922b-84ad1f0a62e3",
   "metadata": {},
   "outputs": [
    {
     "name": "stdout",
     "output_type": "stream",
     "text": [
      "Continuous data preparation:\n",
      "\n",
      "General population:\n",
      "shape of PCA prepared data = 44561 rows, 8 columns\n",
      "\n",
      "Customer population:\n",
      "shape of PCA prepared data = 28748 rows, 8 columns\n"
     ]
    }
   ],
   "source": [
    "print('Continuous data preparation:')\n",
    "print('\\r')\n",
    "print('General population:')\n",
    "train_cont = prepare_pca(sample_azdias, to_drop, continuous_vars, subsample=0.5)\n",
    "print('\\r')\n",
    "print('Customer population:')\n",
    "test_cont = prepare_pca(sample_customers, to_drop, continuous_vars, subsample=0.5)"
   ]
  },
  {
   "cell_type": "code",
   "execution_count": 345,
   "id": "d2774dea-b0ce-4f0a-9272-8773d7411d5b",
   "metadata": {},
   "outputs": [
    {
     "name": "stdout",
     "output_type": "stream",
     "text": [
      "no columns in train that are not in test\n",
      "no columns in test that are not in train\n"
     ]
    }
   ],
   "source": [
    "## Check columns match\n",
    "train_to_drop, test_to_drop = check_cols_match(train_cont, test_cont, 'train', 'test')"
   ]
  },
  {
   "cell_type": "markdown",
   "id": "9354ae24-0890-4c2f-9c17-040ca3ec4fe9",
   "metadata": {
    "tags": []
   },
   "source": [
    "##### Fit PCA on continuous general population data"
   ]
  },
  {
   "cell_type": "code",
   "execution_count": 349,
   "id": "ea64d11f-78c0-43bb-8388-c8b22c9dd8a5",
   "metadata": {},
   "outputs": [],
   "source": [
    "pca = PCA(n_components=2,n_iter=3,copy=True,check_input=True,engine='auto',random_state=42)\n",
    "azdias_pca = pca.fit(train_cont)"
   ]
  },
  {
   "cell_type": "code",
   "execution_count": 360,
   "id": "81b8758b-d9a6-43d3-8020-6d572dd47439",
   "metadata": {},
   "outputs": [
    {
     "name": "stdout",
     "output_type": "stream",
     "text": [
      "PCA for categorical data\n",
      "\n"
     ]
    },
    {
     "data": {
      "image/png": "[encoded data removed]",
      "text/plain": [
       "<Figure size 432x288 with 1 Axes>"
      ]
     },
     "metadata": {
      "needs_background": "light"
     },
     "output_type": "display_data"
    },
    {
     "name": "stdout",
     "output_type": "stream",
     "text": [
      "First two components explain: [0.37621404 0.25678651], total inertia = 7.999999999999999\n",
      "\n",
      "  Driving highly negative PC1 values Driving highly positive PC1 values\n",
      "0               EINGEZOGENAM_HH_JAHR                          ANZ_TITEL\n",
      "1                   KBA13_ANZAHL_PKW                       ANZ_HH_TITEL\n",
      "2                        GEBURTSJAHR         ANZ_STATISTISCHE_HAUSHALTE\n",
      "3                       ANZ_PERSONEN                ANZ_HAUSHALTE_AKTIV\n",
      "4                ANZ_HAUSHALTE_AKTIV                       ANZ_PERSONEN\n",
      "\n",
      "  Driving highly negative PC2 values Driving highly positive PC2 values\n",
      "0                       ANZ_PERSONEN         ANZ_STATISTISCHE_HAUSHALTE\n",
      "1                        GEBURTSJAHR                ANZ_HAUSHALTE_AKTIV\n",
      "2                   KBA13_ANZAHL_PKW                       ANZ_HH_TITEL\n",
      "3                          ANZ_TITEL               EINGEZOGENAM_HH_JAHR\n",
      "4               EINGEZOGENAM_HH_JAHR                          ANZ_TITEL\n"
     ]
    }
   ],
   "source": [
    "gen_pop_pca_results = plot_pca(azdias_pca, train_cont)"
   ]
  },
  {
   "cell_type": "markdown",
   "id": "330a1f2a-f2c4-4ca0-8bde-9789d94d075b",
   "metadata": {
    "tags": []
   },
   "source": [
    "##### Apply PCA to continuous customer population data"
   ]
  },
  {
   "cell_type": "code",
   "execution_count": 351,
   "id": "ec498498-f6eb-4d95-ab88-91b0f78663d6",
   "metadata": {
    "tags": []
   },
   "outputs": [],
   "source": [
    "customer_pca = azdias_pca.transform(test_cont)"
   ]
  },
  {
   "cell_type": "code",
   "execution_count": 361,
   "id": "a51bb917-8c95-4582-b1bc-1f17f345a32c",
   "metadata": {},
   "outputs": [
    {
     "name": "stdout",
     "output_type": "stream",
     "text": [
      "PCA for categorical data\n",
      "\n"
     ]
    },
    {
     "data": {
      "image/png": "[encoded data removed]",
      "text/plain": [
       "<Figure size 432x288 with 1 Axes>"
      ]
     },
     "metadata": {
      "needs_background": "light"
     },
     "output_type": "display_data"
    }
   ],
   "source": [
    "customer_pca_results = plot_pca(customer_pca, test_cont, fit=False, analyse_loadings=False)"
   ]
  },
  {
   "cell_type": "markdown",
   "id": "d2f49ecf-f687-4aa9-bb46-015d635670c8",
   "metadata": {
    "tags": []
   },
   "source": [
    "### Clustering"
   ]
  },
  {
   "cell_type": "markdown",
   "id": "03d8ee7f-0c40-45dc-b69d-2c2282573c46",
   "metadata": {
    "tags": []
   },
   "source": [
    "#### K Means"
   ]
  },
  {
   "cell_type": "code",
   "execution_count": 362,
   "id": "537001a0-287c-4007-a890-c1827afc4118",
   "metadata": {
    "jupyter": {
     "source_hidden": true
    },
    "tags": []
   },
   "outputs": [],
   "source": [
    "from sklearn.cluster import KMeans"
   ]
  },
  {
   "cell_type": "code",
   "execution_count": 363,
   "id": "35a08cde-79c5-4b41-9c60-3c0d4b34dc37",
   "metadata": {
    "jupyter": {
     "source_hidden": true
    },
    "tags": []
   },
   "outputs": [],
   "source": [
    "kmeans = KMeans(n_clusters=3, random_state=123)"
   ]
  },
  {
   "cell_type": "code",
   "execution_count": 364,
   "id": "5078433e-b438-4c3d-897c-9211c0992576",
   "metadata": {
    "jupyter": {
     "source_hidden": true
    },
    "tags": []
   },
   "outputs": [],
   "source": [
    "#predict the labels of clusters.\n",
    "mca_labels = kmeans.fit_predict(gen_pop_mca_results)\n",
    "mca_centers = kmeans.cluster_centers_"
   ]
  },
  {
   "cell_type": "code",
   "execution_count": 365,
   "id": "6c9e3811-eba4-4b34-86a1-2a15c224d517",
   "metadata": {
    "collapsed": true,
    "jupyter": {
     "outputs_hidden": true,
     "source_hidden": true
    },
    "tags": []
   },
   "outputs": [
    {
     "data": {
      "image/png": "[encoded data removed]",
      "text/plain": [
       "<Figure size 432x288 with 1 Axes>"
      ]
     },
     "metadata": {
      "needs_background": "light"
     },
     "output_type": "display_data"
    }
   ],
   "source": [
    "plt.scatter(gen_pop_mca_results['PC1'], gen_pop_mca_results['PC2'], alpha=0.5);\n",
    "plt.scatter(pd.DataFrame(mca_centers).iloc[:,0], pd.DataFrame(mca_centers).iloc[:,1])\n",
    "plt.xlabel('Principle Component 1 Scores');\n",
    "plt.ylabel('Principle Component 2 Scores');"
   ]
  },
  {
   "cell_type": "markdown",
   "id": "7f3ad18f-4d66-43ea-9e14-2e89bfd6d84c",
   "metadata": {},
   "source": [
    "Not so good"
   ]
  },
  {
   "cell_type": "markdown",
   "id": "733605d7-33cc-45e1-a822-09ccf9378fc5",
   "metadata": {
    "tags": []
   },
   "source": [
    "#### DBSCAN"
   ]
  },
  {
   "cell_type": "markdown",
   "id": "13b2235a-c79c-4f52-84c9-6cc03ad85dae",
   "metadata": {},
   "source": [
    "Note DBSCAN has no 'predict'-like function, it is only clustering, so cannot try to assign clusters to customers based on cluster centers learned from general population (as you could with k-means), and so the customers will have to be fitted with a new clustering object and the clusters compared."
   ]
  },
  {
   "cell_type": "code",
   "execution_count": 357,
   "id": "35736b0c-9b96-4286-bd0a-be8e5c936e2b",
   "metadata": {},
   "outputs": [
    {
     "name": "stdout",
     "output_type": "stream",
     "text": [
      "The autoreload extension is already loaded. To reload it, use:\n",
      "  %reload_ext autoreload\n"
     ]
    }
   ],
   "source": [
    "%load_ext autoreload\n",
    "%autoreload 2\n",
    "from arvato_functions import *"
   ]
  },
  {
   "cell_type": "code",
   "execution_count": 367,
   "id": "5d9e6db2-b52d-43b6-8286-be9800f12856",
   "metadata": {},
   "outputs": [],
   "source": [
    "from sklearn.cluster import DBSCAN"
   ]
  },
  {
   "cell_type": "code",
   "execution_count": 371,
   "id": "ff752052-e12d-483c-bc50-dc1c8d0fd1e7",
   "metadata": {},
   "outputs": [
    {
     "name": "stdout",
     "output_type": "stream",
     "text": [
      "Estimated number of clusters: 4\n",
      "Estimated number of noise points: 498\n"
     ]
    },
    {
     "data": {
      "image/png": "[encoded data removed]",
      "text/plain": [
       "<Figure size 432x288 with 1 Axes>"
      ]
     },
     "metadata": {
      "needs_background": "light"
     },
     "output_type": "display_data"
    }
   ],
   "source": [
    "mca_clusters = DBSCAN(eps=0.1, min_samples=100).fit(gen_pop_mca_results)\n",
    "DBSCAN_processing(mca_clusters, gen_pop_mca_results)"
   ]
  },
  {
   "cell_type": "code",
   "execution_count": 385,
   "id": "adfffee1-f7d8-42de-bfcc-70c3c07513bd",
   "metadata": {},
   "outputs": [
    {
     "name": "stdout",
     "output_type": "stream",
     "text": [
      "Estimated number of clusters: 4\n",
      "Estimated number of noise points: 487\n"
     ]
    },
    {
     "data": {
      "image/png": "[encoded data removed]",
      "text/plain": [
       "<Figure size 432x288 with 1 Axes>"
      ]
     },
     "metadata": {
      "needs_background": "light"
     },
     "output_type": "display_data"
    }
   ],
   "source": [
    "mca_clusters = DBSCAN(eps=0.1, min_samples=100).fit(customer_mca_results)\n",
    "DBSCAN_processing(mca_clusters, customer_mca_results)"
   ]
  },
  {
   "cell_type": "code",
   "execution_count": 390,
   "id": "7ea54373-ca9e-451e-9330-e7da1ab85a1c",
   "metadata": {},
   "outputs": [
    {
     "name": "stdout",
     "output_type": "stream",
     "text": [
      "Estimated number of clusters: 2\n",
      "Estimated number of noise points: 831\n"
     ]
    },
    {
     "data": {
      "image/png": "[encoded data removed]",
      "text/plain": [
       "<Figure size 432x288 with 1 Axes>"
      ]
     },
     "metadata": {
      "needs_background": "light"
     },
     "output_type": "display_data"
    }
   ],
   "source": [
    "pca_clusters = DBSCAN(eps=0.5, min_samples=100).fit(gen_pop_pca_results)\n",
    "DBSCAN_processing(pca_clusters, gen_pop_pca_results)"
   ]
  },
  {
   "cell_type": "code",
   "execution_count": 391,
   "id": "94d867ea-9870-4c84-9bf7-2fbfec4ad035",
   "metadata": {},
   "outputs": [
    {
     "name": "stdout",
     "output_type": "stream",
     "text": [
      "Estimated number of clusters: 2\n",
      "Estimated number of noise points: 518\n"
     ]
    },
    {
     "data": {
      "image/png": "[encoded data removed]",
      "text/plain": [
       "<Figure size 432x288 with 1 Axes>"
      ]
     },
     "metadata": {
      "needs_background": "light"
     },
     "output_type": "display_data"
    }
   ],
   "source": [
    "pca_clusters = DBSCAN(eps=0.5, min_samples=100).fit(customer_pca_results)\n",
    "DBSCAN_processing(pca_clusters, customer_pca_results)"
   ]
  },
  {
   "cell_type": "code",
   "execution_count": 2,
   "id": "6bfc1b69-b65f-4584-8460-cdf9b4a29498",
   "metadata": {},
   "outputs": [],
   "source": [
    "## alternative approach - COMBINE customers and germany population before PCA and clustering\n",
    "#  Plot in different colours - see if customers distributed differently"
   ]
  },
  {
   "cell_type": "code",
   "execution_count": null,
   "id": "9695b49f-a7c7-4f4d-a833-ff64f2da38bc",
   "metadata": {},
   "outputs": [],
   "source": []
  }
 ],
 "metadata": {
  "kernelspec": {
   "display_name": "ds-nanodegree",
   "language": "python",
   "name": "ds-nanodegree"
  },
  "language_info": {
   "codemirror_mode": {
    "name": "ipython",
    "version": 3
   },
   "file_extension": ".py",
   "mimetype": "text/x-python",
   "name": "python",
   "nbconvert_exporter": "python",
   "pygments_lexer": "ipython3",
   "version": "3.7.10"
  }
 },
 "nbformat": 4,
 "nbformat_minor": 5
}
